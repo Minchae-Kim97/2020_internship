{
 "cells": [
  {
   "cell_type": "code",
   "execution_count": 1,
   "metadata": {},
   "outputs": [],
   "source": [
    "from selenium.webdriver import Chrome\n",
    "from selenium.common.exceptions import NoSuchElementException,StaleElementReferenceException, TimeoutException,NoSuchFrameException, WebDriverException, UnexpectedAlertPresentException\n",
    "from selenium.webdriver.common.keys import Keys\n",
    "import time\n",
    "from tqdm import tqdm\n",
    "\n",
    "import urllib.request\n",
    "\n",
    "import re"
   ]
  },
  {
   "cell_type": "code",
   "execution_count": 2,
   "metadata": {},
   "outputs": [],
   "source": [
    "# path 설정\n",
    "driver = Chrome('C:/Users/Administrator/chromedriver.exe')"
   ]
  },
  {
   "cell_type": "markdown",
   "metadata": {},
   "source": [
    "## (1). 파페치"
   ]
  },
  {
   "cell_type": "code",
   "execution_count": 3,
   "metadata": {},
   "outputs": [],
   "source": [
    "# 가방\n",
    "url = 'https://www.farfetch.com/kr/shopping/women/bags-purses-1/items.aspx?view=90&category=136033|135999|136035|136315|136297|137188|137189|136311|137170'"
   ]
  },
  {
   "cell_type": "code",
   "execution_count": 3,
   "metadata": {},
   "outputs": [],
   "source": [
    "# 원피스\n",
    "url = 'https://www.farfetch.com/kr/shopping/women/clothing-1/items.aspx?page=1&view=90&category=135979'\n",
    "url = 'https://www.farfetch.com/kr/shopping/women/clothing-1/items.aspx?page={input_num}&view=90&category=135979'.format(input_num = page_num)"
   ]
  },
  {
   "cell_type": "code",
   "execution_count": 4,
   "metadata": {},
   "outputs": [],
   "source": [
    "driver.get(url)"
   ]
  },
  {
   "cell_type": "code",
   "execution_count": 5,
   "metadata": {},
   "outputs": [
    {
     "data": {
      "text/plain": [
       "263"
      ]
     },
     "execution_count": 5,
     "metadata": {},
     "output_type": "execute_result"
    }
   ],
   "source": [
    "## 페이지 넘버를 알기위해, 스크롤 다운\n",
    "body = driver.find_element_by_css_selector('body')\n",
    "for i in range(45):\n",
    "    body.send_keys(Keys.PAGE_DOWN)\n",
    "    time.sleep(0.3)\n",
    "\n",
    "time.sleep(1)\n",
    "# 페이지넘버\n",
    "total_page = driver.find_element_by_class_name('_5fd441._7c0d7c._e7b42f')\n",
    "total_page_num = int(total_page.text.split(' ')[-1])\n",
    "total_page_num"
   ]
  },
  {
   "cell_type": "code",
   "execution_count": 3,
   "metadata": {},
   "outputs": [],
   "source": [
    "## 이미지 링크와 각 이미지별 브랜드 저장하는 함수\n",
    "def link_brand_img(url):\n",
    "    driver.get(url)\n",
    "    global img_links_list\n",
    "    global img_brands_list\n",
    "    \n",
    "    for i in range(1000, 15000, 1000):\n",
    "        driver.execute_script(\"window.scrollTo(0, {size})\".format(size = i))\n",
    "        time.sleep(0.5)\n",
    "    time.sleep(1)\n",
    "        \n",
    "    img_links = driver.find_elements_by_css_selector('a > div._9c4bad._976d71 > img')\n",
    "    img_links_list = [img_link.get_attribute('src') for img_link in img_links]\n",
    "    \n",
    "    img_brands = driver.find_elements_by_css_selector('h3._346238')\n",
    "    img_brands_list = [brand_name.text for brand_name in img_brands]\n",
    "    \n",
    "    # 브랜드 - 특수문자 제거\n",
    "    for i, brand in enumerate(img_brands_list):\n",
    "        document = re.sub('[*?\\|:<>/^%&$#@_]', '', brand)\n",
    "        img_brands_list[i] = document"
   ]
  },
  {
   "cell_type": "code",
   "execution_count": 4,
   "metadata": {},
   "outputs": [
    {
     "name": "stderr",
     "output_type": "stream",
     "text": [
      "100%|███████████████████████████████████████████████████████████████████████████████| 26/26 [1:41:26<00:00, 233.49s/it]\n"
     ]
    }
   ],
   "source": [
    "img_number = 9944 # 폴더에 저장된 맨 마지막 번호에다가 + 1 \n",
    "\n",
    "for page_num in tqdm(range(105, 131)): # 중간에 오류나면 페이지 조정\n",
    "    url = 'https://www.farfetch.com/kr/shopping/women/clothing-1/items.aspx?page={input_num}&view=90&category=135979'.format(input_num = page_num)\n",
    "    link_brand_img(url)\n",
    "    \n",
    "    for i in range(0, len(img_links_list)):\n",
    "        urllib.request.urlretrieve(img_links_list[i], 'dress/{number}_{brand_name}.jpg'.format(number = img_number, brand_name = img_brands_list[i]))\n",
    "        time.sleep(0.1)\n",
    "        img_number+=1"
   ]
  },
  {
   "cell_type": "code",
   "execution_count": null,
   "metadata": {},
   "outputs": [],
   "source": []
  },
  {
   "cell_type": "code",
   "execution_count": null,
   "metadata": {},
   "outputs": [],
   "source": []
  },
  {
   "cell_type": "code",
   "execution_count": null,
   "metadata": {},
   "outputs": [],
   "source": []
  },
  {
   "cell_type": "code",
   "execution_count": null,
   "metadata": {},
   "outputs": [],
   "source": []
  }
 ],
 "metadata": {
  "kernelspec": {
   "display_name": "Python 3",
   "language": "python",
   "name": "python3"
  },
  "language_info": {
   "codemirror_mode": {
    "name": "ipython",
    "version": 3
   },
   "file_extension": ".py",
   "mimetype": "text/x-python",
   "name": "python",
   "nbconvert_exporter": "python",
   "pygments_lexer": "ipython3",
   "version": "3.7.3"
  }
 },
 "nbformat": 4,
 "nbformat_minor": 2
}
