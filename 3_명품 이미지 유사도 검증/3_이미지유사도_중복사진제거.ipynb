{
 "cells": [
  {
   "cell_type": "code",
   "execution_count": 12,
   "metadata": {},
   "outputs": [],
   "source": [
    "import numpy as np\n",
    "import pandas as pd\n",
    "import os"
   ]
  },
  {
   "cell_type": "markdown",
   "metadata": {},
   "source": [
    "## 이미지 파일 전처리"
   ]
  },
  {
   "cell_type": "code",
   "execution_count": 60,
   "metadata": {},
   "outputs": [],
   "source": [
    "# 사진 리스트\n",
    "photo_list = []\n",
    "\n",
    "for f in os.listdir('./data/train/dress'):\n",
    "    if 'jpg' in f:\n",
    "        photo_list.append(f)"
   ]
  },
  {
   "cell_type": "code",
   "execution_count": 61,
   "metadata": {},
   "outputs": [
    {
     "data": {
      "text/plain": [
       "23063"
      ]
     },
     "execution_count": 61,
     "metadata": {},
     "output_type": "execute_result"
    }
   ],
   "source": [
    "len(photo_list)"
   ]
  },
  {
   "cell_type": "code",
   "execution_count": 63,
   "metadata": {},
   "outputs": [
    {
     "data": {
      "text/plain": [
       "23063"
      ]
     },
     "execution_count": 63,
     "metadata": {},
     "output_type": "execute_result"
    }
   ],
   "source": [
    "# 사진 사이즈 구하기\n",
    "photo_size = list(map(lambda x: os.path.getsize('./data/train/dress' + '/' + x), photo_list))\n",
    "len(photo_size)"
   ]
  },
  {
   "cell_type": "code",
   "execution_count": 64,
   "metadata": {},
   "outputs": [
    {
     "name": "stdout",
     "output_type": "stream",
     "text": [
      "사진의 갯수 : 23063\n"
     ]
    }
   ],
   "source": [
    "# Find Same Photos\n",
    "fsp = pd.DataFrame({'filename_raw':photo_list, 'size':photo_size})\n",
    "\n",
    "print('사진의 갯수 :', len(fsp))"
   ]
  },
  {
   "cell_type": "code",
   "execution_count": 65,
   "metadata": {},
   "outputs": [
    {
     "data": {
      "text/html": [
       "<div>\n",
       "<style scoped>\n",
       "    .dataframe tbody tr th:only-of-type {\n",
       "        vertical-align: middle;\n",
       "    }\n",
       "\n",
       "    .dataframe tbody tr th {\n",
       "        vertical-align: top;\n",
       "    }\n",
       "\n",
       "    .dataframe thead th {\n",
       "        text-align: right;\n",
       "    }\n",
       "</style>\n",
       "<table border=\"1\" class=\"dataframe\">\n",
       "  <thead>\n",
       "    <tr style=\"text-align: right;\">\n",
       "      <th></th>\n",
       "      <th>filename_raw</th>\n",
       "      <th>size</th>\n",
       "      <th>filename</th>\n",
       "    </tr>\n",
       "  </thead>\n",
       "  <tbody>\n",
       "    <tr>\n",
       "      <th>0</th>\n",
       "      <td>10000_Dolce  Gabbana.jpg</td>\n",
       "      <td>16161</td>\n",
       "      <td>Dolce  Gabbana.jpg</td>\n",
       "    </tr>\n",
       "    <tr>\n",
       "      <th>1</th>\n",
       "      <td>10001_Maison Margiela.jpg</td>\n",
       "      <td>9257</td>\n",
       "      <td>Maison Margiela.jpg</td>\n",
       "    </tr>\n",
       "    <tr>\n",
       "      <th>2</th>\n",
       "      <td>10002_Macgraw.jpg</td>\n",
       "      <td>22413</td>\n",
       "      <td>Macgraw.jpg</td>\n",
       "    </tr>\n",
       "    <tr>\n",
       "      <th>3</th>\n",
       "      <td>10003_Preen By Thornton Bregazzi.jpg</td>\n",
       "      <td>16289</td>\n",
       "      <td>Preen By Thornton Bregazzi.jpg</td>\n",
       "    </tr>\n",
       "    <tr>\n",
       "      <th>4</th>\n",
       "      <td>10004_Emilia Wickstead.jpg</td>\n",
       "      <td>15093</td>\n",
       "      <td>Emilia Wickstead.jpg</td>\n",
       "    </tr>\n",
       "  </tbody>\n",
       "</table>\n",
       "</div>"
      ],
      "text/plain": [
       "                           filename_raw   size                        filename\n",
       "0              10000_Dolce  Gabbana.jpg  16161              Dolce  Gabbana.jpg\n",
       "1             10001_Maison Margiela.jpg   9257             Maison Margiela.jpg\n",
       "2                     10002_Macgraw.jpg  22413                     Macgraw.jpg\n",
       "3  10003_Preen By Thornton Bregazzi.jpg  16289  Preen By Thornton Bregazzi.jpg\n",
       "4            10004_Emilia Wickstead.jpg  15093            Emilia Wickstead.jpg"
      ]
     },
     "execution_count": 65,
     "metadata": {},
     "output_type": "execute_result"
    }
   ],
   "source": [
    "# 숫자 삭제\n",
    "import re   # 정규표현식\n",
    "com = re.compile('\\d*_')\n",
    "fsp['filename'] = list(map(lambda x: com.sub('', x), photo_list))\n",
    "fsp.head()"
   ]
  },
  {
   "cell_type": "markdown",
   "metadata": {},
   "source": [
    "## 중복 제거"
   ]
  },
  {
   "cell_type": "code",
   "execution_count": 66,
   "metadata": {},
   "outputs": [
    {
     "data": {
      "text/plain": [
       "False    17208\n",
       "True      5855\n",
       "dtype: int64"
      ]
     },
     "execution_count": 66,
     "metadata": {},
     "output_type": "execute_result"
    }
   ],
   "source": [
    "fsp.duplicated(['size','filename']).value_counts()"
   ]
  },
  {
   "cell_type": "code",
   "execution_count": 67,
   "metadata": {},
   "outputs": [
    {
     "name": "stdout",
     "output_type": "stream",
     "text": [
      "save ver length: 17208\n"
     ]
    },
    {
     "data": {
      "text/html": [
       "<div>\n",
       "<style scoped>\n",
       "    .dataframe tbody tr th:only-of-type {\n",
       "        vertical-align: middle;\n",
       "    }\n",
       "\n",
       "    .dataframe tbody tr th {\n",
       "        vertical-align: top;\n",
       "    }\n",
       "\n",
       "    .dataframe thead th {\n",
       "        text-align: right;\n",
       "    }\n",
       "</style>\n",
       "<table border=\"1\" class=\"dataframe\">\n",
       "  <thead>\n",
       "    <tr style=\"text-align: right;\">\n",
       "      <th></th>\n",
       "      <th>filename_raw</th>\n",
       "      <th>size</th>\n",
       "      <th>filename</th>\n",
       "    </tr>\n",
       "  </thead>\n",
       "  <tbody>\n",
       "    <tr>\n",
       "      <th>17203</th>\n",
       "      <td>9995_A.P.C..jpg</td>\n",
       "      <td>45723</td>\n",
       "      <td>A.P.C..jpg</td>\n",
       "    </tr>\n",
       "    <tr>\n",
       "      <th>17204</th>\n",
       "      <td>9996_Mes Demoiselles.jpg</td>\n",
       "      <td>38265</td>\n",
       "      <td>Mes Demoiselles.jpg</td>\n",
       "    </tr>\n",
       "    <tr>\n",
       "      <th>17205</th>\n",
       "      <td>9997_Alice McCall.jpg</td>\n",
       "      <td>15881</td>\n",
       "      <td>Alice McCall.jpg</td>\n",
       "    </tr>\n",
       "    <tr>\n",
       "      <th>17206</th>\n",
       "      <td>9998_Carolina Herrera.jpg</td>\n",
       "      <td>13648</td>\n",
       "      <td>Carolina Herrera.jpg</td>\n",
       "    </tr>\n",
       "    <tr>\n",
       "      <th>17207</th>\n",
       "      <td>9999_MSGM.jpg</td>\n",
       "      <td>33538</td>\n",
       "      <td>MSGM.jpg</td>\n",
       "    </tr>\n",
       "  </tbody>\n",
       "</table>\n",
       "</div>"
      ],
      "text/plain": [
       "                    filename_raw   size              filename\n",
       "17203            9995_A.P.C..jpg  45723            A.P.C..jpg\n",
       "17204   9996_Mes Demoiselles.jpg  38265   Mes Demoiselles.jpg\n",
       "17205      9997_Alice McCall.jpg  15881      Alice McCall.jpg\n",
       "17206  9998_Carolina Herrera.jpg  13648  Carolina Herrera.jpg\n",
       "17207              9999_MSGM.jpg  33538              MSGM.jpg"
      ]
     },
     "execution_count": 67,
     "metadata": {},
     "output_type": "execute_result"
    }
   ],
   "source": [
    "save = fsp.drop_duplicates(['size','filename'], keep = 'first').reset_index(drop = 'false')\n",
    "print('save ver length:', len(save))\n",
    "save.tail()"
   ]
  },
  {
   "cell_type": "code",
   "execution_count": 68,
   "metadata": {},
   "outputs": [
    {
     "name": "stdout",
     "output_type": "stream",
     "text": [
      "delete ver length: 5855\n"
     ]
    },
    {
     "data": {
      "text/html": [
       "<div>\n",
       "<style scoped>\n",
       "    .dataframe tbody tr th:only-of-type {\n",
       "        vertical-align: middle;\n",
       "    }\n",
       "\n",
       "    .dataframe tbody tr th {\n",
       "        vertical-align: top;\n",
       "    }\n",
       "\n",
       "    .dataframe thead th {\n",
       "        text-align: right;\n",
       "    }\n",
       "</style>\n",
       "<table border=\"1\" class=\"dataframe\">\n",
       "  <thead>\n",
       "    <tr style=\"text-align: right;\">\n",
       "      <th></th>\n",
       "      <th>filename_raw</th>\n",
       "      <th>size</th>\n",
       "      <th>filename</th>\n",
       "    </tr>\n",
       "  </thead>\n",
       "  <tbody>\n",
       "    <tr>\n",
       "      <th>5850</th>\n",
       "      <td>993_Theory.jpg</td>\n",
       "      <td>6097</td>\n",
       "      <td>Theory.jpg</td>\n",
       "    </tr>\n",
       "    <tr>\n",
       "      <th>5851</th>\n",
       "      <td>994_MSGM.jpg</td>\n",
       "      <td>29829</td>\n",
       "      <td>MSGM.jpg</td>\n",
       "    </tr>\n",
       "    <tr>\n",
       "      <th>5852</th>\n",
       "      <td>997_Vince.jpg</td>\n",
       "      <td>7585</td>\n",
       "      <td>Vince.jpg</td>\n",
       "    </tr>\n",
       "    <tr>\n",
       "      <th>5853</th>\n",
       "      <td>998_Zimmermann.jpg</td>\n",
       "      <td>17613</td>\n",
       "      <td>Zimmermann.jpg</td>\n",
       "    </tr>\n",
       "    <tr>\n",
       "      <th>5854</th>\n",
       "      <td>999_By Walid.jpg</td>\n",
       "      <td>6962</td>\n",
       "      <td>By Walid.jpg</td>\n",
       "    </tr>\n",
       "  </tbody>\n",
       "</table>\n",
       "</div>"
      ],
      "text/plain": [
       "            filename_raw   size        filename\n",
       "5850      993_Theory.jpg   6097      Theory.jpg\n",
       "5851        994_MSGM.jpg  29829        MSGM.jpg\n",
       "5852       997_Vince.jpg   7585       Vince.jpg\n",
       "5853  998_Zimmermann.jpg  17613  Zimmermann.jpg\n",
       "5854    999_By Walid.jpg   6962    By Walid.jpg"
      ]
     },
     "execution_count": 68,
     "metadata": {},
     "output_type": "execute_result"
    }
   ],
   "source": [
    "delete = fsp[~fsp['filename_raw'].isin(save['filename_raw'])].reset_index(drop = 'false')\n",
    "print('delete ver length:', len(delete))\n",
    "delete.tail()"
   ]
  },
  {
   "cell_type": "markdown",
   "metadata": {},
   "source": [
    "## 중복된 사진 move"
   ]
  },
  {
   "cell_type": "code",
   "execution_count": 59,
   "metadata": {},
   "outputs": [],
   "source": [
    "## 가방 ver\n",
    "import shutil\n",
    "\n",
    "for i in delete['filename_raw']:\n",
    "    shutil.move('C:/Users/Administrator/3_이미지유사도/data/train/bag/'+i, 'C:/Users/Administrator/3_이미지유사도/data/train/bag_delete')"
   ]
  },
  {
   "cell_type": "code",
   "execution_count": 70,
   "metadata": {},
   "outputs": [],
   "source": [
    "## 드레스 ver\n",
    "import shutil\n",
    "\n",
    "for i in delete['filename_raw']:\n",
    "    shutil.move('C:/Users/Administrator/3_이미지유사도/data/train/dress/'+i, 'C:/Users/Administrator/3_이미지유사도/data/train/dress_delete')"
   ]
  },
  {
   "cell_type": "code",
   "execution_count": null,
   "metadata": {},
   "outputs": [],
   "source": []
  },
  {
   "cell_type": "code",
   "execution_count": null,
   "metadata": {},
   "outputs": [],
   "source": []
  }
 ],
 "metadata": {
  "kernelspec": {
   "display_name": "Python 3",
   "language": "python",
   "name": "python3"
  },
  "language_info": {
   "codemirror_mode": {
    "name": "ipython",
    "version": 3
   },
   "file_extension": ".py",
   "mimetype": "text/x-python",
   "name": "python",
   "nbconvert_exporter": "python",
   "pygments_lexer": "ipython3",
   "version": "3.7.3"
  }
 },
 "nbformat": 4,
 "nbformat_minor": 2
}
