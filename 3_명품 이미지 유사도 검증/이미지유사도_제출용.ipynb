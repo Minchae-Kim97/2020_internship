{
 "cells": [
  {
   "cell_type": "code",
   "execution_count": 2,
   "metadata": {},
   "outputs": [
    {
     "name": "stderr",
     "output_type": "stream",
     "text": [
      "Using TensorFlow backend.\n"
     ]
    }
   ],
   "source": [
    "import pandas as pd\n",
    "import numpy as np\n",
    "\n",
    "import time\n",
    "import datetime\n",
    "\n",
    "from tqdm import tqdm_notebook as tqdm\n",
    "\n",
    "import numpy as np\n",
    "from matplotlib import pyplot as plt\n",
    "%matplotlib inline\n",
    "\n",
    "import seaborn as sns\n",
    "\n",
    "# matplotlib 폰트설정\n",
    "plt.rc('font', family='NanumGothic') # For Windows\n",
    "\n",
    "from glob import glob\n",
    "from keras.preprocessing.image import load_img"
   ]
  },
  {
   "cell_type": "code",
   "execution_count": 3,
   "metadata": {},
   "outputs": [
    {
     "data": {
      "text/html": [
       "\n",
       "<style>\n",
       ".output_png {\n",
       "    display: table-cell;\n",
       "    text-align: center;\n",
       "    vertical-align: middle;\n",
       "}\n",
       "</style>\n"
      ],
      "text/plain": [
       "<IPython.core.display.HTML object>"
      ]
     },
     "execution_count": 3,
     "metadata": {},
     "output_type": "execute_result"
    }
   ],
   "source": [
    "## 중앙으로 배치\n",
    "from IPython.core.display import HTML\n",
    "HTML(\"\"\"\n",
    "<style>\n",
    ".output_png {\n",
    "    display: table-cell;\n",
    "    text-align: center;\n",
    "    vertical-align: middle;\n",
    "}\n",
    "</style>\n",
    "\"\"\")"
   ]
  },
  {
   "cell_type": "markdown",
   "metadata": {},
   "source": [
    "# (1). mahotas"
   ]
  },
  {
   "cell_type": "markdown",
   "metadata": {},
   "source": [
    "## 1.1 분류 모델: classification"
   ]
  },
  {
   "cell_type": "markdown",
   "metadata": {},
   "source": [
    "### 1.1.1 image load"
   ]
  },
  {
   "cell_type": "markdown",
   "metadata": {},
   "source": [
    "* train"
   ]
  },
  {
   "cell_type": "code",
   "execution_count": 91,
   "metadata": {},
   "outputs": [
    {
     "name": "stdout",
     "output_type": "stream",
     "text": [
      "train_가방: 17224 \n",
      "train_드레스: 17208\n"
     ]
    }
   ],
   "source": [
    "bag_images = glob('./train/bag/*.jpg')\n",
    "dress_images = glob('./train/dress/*.jpg')\n",
    "print('train_가방:', len(bag_images), '\\ntrain_드레스:', len(dress_images))"
   ]
  },
  {
   "cell_type": "code",
   "execution_count": 92,
   "metadata": {},
   "outputs": [
    {
     "data": {
      "text/html": [
       "<div>\n",
       "<style scoped>\n",
       "    .dataframe tbody tr th:only-of-type {\n",
       "        vertical-align: middle;\n",
       "    }\n",
       "\n",
       "    .dataframe tbody tr th {\n",
       "        vertical-align: top;\n",
       "    }\n",
       "\n",
       "    .dataframe thead th {\n",
       "        text-align: right;\n",
       "    }\n",
       "</style>\n",
       "<table border=\"1\" class=\"dataframe\">\n",
       "  <thead>\n",
       "    <tr style=\"text-align: right;\">\n",
       "      <th></th>\n",
       "      <th>name</th>\n",
       "      <th>label</th>\n",
       "    </tr>\n",
       "  </thead>\n",
       "  <tbody>\n",
       "    <tr>\n",
       "      <th>34427</th>\n",
       "      <td>./train/dress\\9995_A.P.C..jpg</td>\n",
       "      <td>dress</td>\n",
       "    </tr>\n",
       "    <tr>\n",
       "      <th>34428</th>\n",
       "      <td>./train/dress\\9996_Mes Demoiselles.jpg</td>\n",
       "      <td>dress</td>\n",
       "    </tr>\n",
       "    <tr>\n",
       "      <th>34429</th>\n",
       "      <td>./train/dress\\9997_Alice McCall.jpg</td>\n",
       "      <td>dress</td>\n",
       "    </tr>\n",
       "    <tr>\n",
       "      <th>34430</th>\n",
       "      <td>./train/dress\\9998_Carolina Herrera.jpg</td>\n",
       "      <td>dress</td>\n",
       "    </tr>\n",
       "    <tr>\n",
       "      <th>34431</th>\n",
       "      <td>./train/dress\\9999_MSGM.jpg</td>\n",
       "      <td>dress</td>\n",
       "    </tr>\n",
       "  </tbody>\n",
       "</table>\n",
       "</div>"
      ],
      "text/plain": [
       "                                          name  label\n",
       "34427            ./train/dress\\9995_A.P.C..jpg  dress\n",
       "34428   ./train/dress\\9996_Mes Demoiselles.jpg  dress\n",
       "34429      ./train/dress\\9997_Alice McCall.jpg  dress\n",
       "34430  ./train/dress\\9998_Carolina Herrera.jpg  dress\n",
       "34431              ./train/dress\\9999_MSGM.jpg  dress"
      ]
     },
     "execution_count": 92,
     "metadata": {},
     "output_type": "execute_result"
    }
   ],
   "source": [
    "bag = pd.DataFrame(bag_images, columns = ['name'])\n",
    "bag['label'] = 'bag'\n",
    "\n",
    "dress = pd.DataFrame(dress_images, columns = ['name'])\n",
    "dress['label'] = 'dress'\n",
    "\n",
    "## 병합\n",
    "train_img = pd.concat([bag, dress], axis = 0).reset_index(drop = True)\n",
    "train_img.tail()"
   ]
  },
  {
   "cell_type": "markdown",
   "metadata": {},
   "source": [
    "* validation"
   ]
  },
  {
   "cell_type": "code",
   "execution_count": 16,
   "metadata": {},
   "outputs": [
    {
     "name": "stdout",
     "output_type": "stream",
     "text": [
      "validation_가방: 662 \n",
      "validation_드레스: 500\n"
     ]
    }
   ],
   "source": [
    "val_bag = glob('./data/validation/bag/*.jpg')\n",
    "val_dress = glob('./data/validation/dress/*.jpg')\n",
    "print('validation_가방:', len(val_bag), '\\nvalidation_드레스:', len(val_dress))"
   ]
  },
  {
   "cell_type": "code",
   "execution_count": 18,
   "metadata": {},
   "outputs": [
    {
     "data": {
      "text/html": [
       "<div>\n",
       "<style scoped>\n",
       "    .dataframe tbody tr th:only-of-type {\n",
       "        vertical-align: middle;\n",
       "    }\n",
       "\n",
       "    .dataframe tbody tr th {\n",
       "        vertical-align: top;\n",
       "    }\n",
       "\n",
       "    .dataframe thead th {\n",
       "        text-align: right;\n",
       "    }\n",
       "</style>\n",
       "<table border=\"1\" class=\"dataframe\">\n",
       "  <thead>\n",
       "    <tr style=\"text-align: right;\">\n",
       "      <th></th>\n",
       "      <th>name</th>\n",
       "      <th>label</th>\n",
       "    </tr>\n",
       "  </thead>\n",
       "  <tbody>\n",
       "    <tr>\n",
       "      <th>1157</th>\n",
       "      <td>./data/validation/dress\\96_Isabel Marant.jpg</td>\n",
       "      <td>dress</td>\n",
       "    </tr>\n",
       "    <tr>\n",
       "      <th>1158</th>\n",
       "      <td>./data/validation/dress\\97_Khaite.jpg</td>\n",
       "      <td>dress</td>\n",
       "    </tr>\n",
       "    <tr>\n",
       "      <th>1159</th>\n",
       "      <td>./data/validation/dress\\98_Tom Ford.jpg</td>\n",
       "      <td>dress</td>\n",
       "    </tr>\n",
       "    <tr>\n",
       "      <th>1160</th>\n",
       "      <td>./data/validation/dress\\99_Chloé.jpg</td>\n",
       "      <td>dress</td>\n",
       "    </tr>\n",
       "    <tr>\n",
       "      <th>1161</th>\n",
       "      <td>./data/validation/dress\\9_ROTATE.jpg</td>\n",
       "      <td>dress</td>\n",
       "    </tr>\n",
       "  </tbody>\n",
       "</table>\n",
       "</div>"
      ],
      "text/plain": [
       "                                              name  label\n",
       "1157  ./data/validation/dress\\96_Isabel Marant.jpg  dress\n",
       "1158         ./data/validation/dress\\97_Khaite.jpg  dress\n",
       "1159       ./data/validation/dress\\98_Tom Ford.jpg  dress\n",
       "1160          ./data/validation/dress\\99_Chloé.jpg  dress\n",
       "1161          ./data/validation/dress\\9_ROTATE.jpg  dress"
      ]
     },
     "execution_count": 18,
     "metadata": {},
     "output_type": "execute_result"
    }
   ],
   "source": [
    "val_bag = pd.DataFrame(val_bag, columns = ['name'])\n",
    "val_bag['label'] = 'bag'\n",
    "\n",
    "val_dress = pd.DataFrame(val_dress, columns = ['name'])\n",
    "val_dress['label'] = 'dress'\n",
    "\n",
    "## 병합\n",
    "val_img = pd.concat([val_bag, val_dress], axis = 0).reset_index(drop = True)\n",
    "val_img.tail()"
   ]
  },
  {
   "cell_type": "markdown",
   "metadata": {},
   "source": [
    "### 1.1.2 feature 추출"
   ]
  },
  {
   "cell_type": "code",
   "execution_count": 12,
   "metadata": {},
   "outputs": [],
   "source": [
    "import mahotas as mh"
   ]
  },
  {
   "cell_type": "markdown",
   "metadata": {},
   "source": [
    "* train"
   ]
  },
  {
   "cell_type": "code",
   "execution_count": 4,
   "metadata": {},
   "outputs": [
    {
     "data": {
      "application/vnd.jupyter.widget-view+json": {
       "model_id": "1578c39eee0a4d1fb2b76629a934d245",
       "version_major": 2,
       "version_minor": 0
      },
      "text/plain": [
       "HBox(children=(IntProgress(value=1, bar_style='info', max=1), HTML(value='')))"
      ]
     },
     "metadata": {},
     "output_type": "display_data"
    },
    {
     "name": "stdout",
     "output_type": "stream",
     "text": [
      "\n"
     ]
    }
   ],
   "source": [
    "features = []\n",
    "labels = []\n",
    "for num, im in tqdm(enumerate(train_img['name'])):\n",
    "    labels.append(train_img['label'][num])\n",
    "    im = mh.imread(im)\n",
    "    im = mh.colors.rgb2gray(im, dtype=np.uint8)\n",
    "    features.append(mh.features.haralick(im).ravel())\n",
    "    \n",
    "features = np.array(features)\n",
    "labels = np.array(labels)"
   ]
  },
  {
   "cell_type": "code",
   "execution_count": 5,
   "metadata": {},
   "outputs": [],
   "source": [
    "## 저장\n",
    "np.save('mahotas_features.npy', features)\n",
    "np.save('mahotas_labels.npy', labels)"
   ]
  },
  {
   "cell_type": "markdown",
   "metadata": {},
   "source": [
    "* validation"
   ]
  },
  {
   "cell_type": "code",
   "execution_count": 21,
   "metadata": {},
   "outputs": [
    {
     "data": {
      "application/vnd.jupyter.widget-view+json": {
       "model_id": "90441846495c41e19ac269d4f97858fe",
       "version_major": 2,
       "version_minor": 0
      },
      "text/plain": [
       "HBox(children=(IntProgress(value=1, bar_style='info', max=1), HTML(value='')))"
      ]
     },
     "metadata": {},
     "output_type": "display_data"
    },
    {
     "name": "stdout",
     "output_type": "stream",
     "text": [
      "\n"
     ]
    }
   ],
   "source": [
    "features = []\n",
    "labels = []\n",
    "for num, im in tqdm(enumerate(val_img['name'])):\n",
    "    labels.append(val_img['label'][num])\n",
    "    im = mh.imread(im)\n",
    "    im = mh.colors.rgb2gray(im, dtype=np.uint8)\n",
    "    features.append(mh.features.haralick(im).ravel())\n",
    "    \n",
    "features = np.array(features)\n",
    "labels = np.array(labels)"
   ]
  },
  {
   "cell_type": "code",
   "execution_count": 22,
   "metadata": {},
   "outputs": [],
   "source": [
    "## 저장\n",
    "np.save('mahotas_features_val.npy', features)\n",
    "np.save('mahotas_labels_val.npy', labels)"
   ]
  },
  {
   "cell_type": "markdown",
   "metadata": {},
   "source": [
    "* 실행: 저장한 파일 불러오기"
   ]
  },
  {
   "cell_type": "code",
   "execution_count": 3,
   "metadata": {},
   "outputs": [],
   "source": [
    "features2 = np.load('mahotas_features.npy')\n",
    "labels2 = np.load('mahotas_labels.npy')"
   ]
  },
  {
   "cell_type": "code",
   "execution_count": 23,
   "metadata": {},
   "outputs": [],
   "source": [
    "val_features2 = np.load('mahotas_features_val.npy')\n",
    "val_labels2 = np.load('mahotas_labels_val.npy')"
   ]
  },
  {
   "cell_type": "code",
   "execution_count": 10,
   "metadata": {},
   "outputs": [
    {
     "data": {
      "text/plain": [
       "array([ 4.62652305e-01,  1.99550201e+02,  9.87859653e-01,  8.21847171e+03,\n",
       "        7.78861513e-01,  4.14967408e+02,  3.26743366e+04,  3.27155922e+00,\n",
       "        4.34444474e+00,  2.13140652e-03,  2.06181921e+00, -5.02482393e-01,\n",
       "        9.72534377e-01,  4.56079626e-01,  4.16818887e+02,  9.74687307e-01,\n",
       "        8.23339656e+03,  7.48803724e-01,  4.14729231e+02,  3.25167673e+04,\n",
       "        3.31093630e+00,  4.54235518e+00,  1.98865664e-03,  2.40599243e+00,\n",
       "       -4.37454142e-01,  9.59895584e-01,  4.65120874e-01,  2.86700033e+02,\n",
       "        9.82547004e-01,  8.21349045e+03,  7.65069192e-01,  4.15046800e+02,\n",
       "        3.25672618e+04,  3.25592541e+00,  4.42999698e+00,  2.09302755e-03,\n",
       "        2.24104375e+00, -4.71952154e-01,  9.67058866e-01,  4.56224290e-01,\n",
       "        4.29468839e+02,  9.73919097e-01,  8.23339656e+03,  7.48945879e-01,\n",
       "        4.14729231e+02,  3.25041174e+04,  3.31175291e+00,  4.54190462e+00,\n",
       "        1.99231854e-03,  2.40647915e+00, -4.37609133e-01,  9.59932461e-01])"
      ]
     },
     "execution_count": 10,
     "metadata": {},
     "output_type": "execute_result"
    }
   ],
   "source": [
    "features2[0]"
   ]
  },
  {
   "cell_type": "code",
   "execution_count": 9,
   "metadata": {},
   "outputs": [
    {
     "data": {
      "text/plain": [
       "(52,)"
      ]
     },
     "execution_count": 9,
     "metadata": {},
     "output_type": "execute_result"
    }
   ],
   "source": [
    "features2[0].shape"
   ]
  },
  {
   "cell_type": "markdown",
   "metadata": {},
   "source": [
    "### 1.1.3 classification"
   ]
  },
  {
   "cell_type": "code",
   "execution_count": 4,
   "metadata": {},
   "outputs": [],
   "source": [
    "from sklearn.pipeline import Pipeline\n",
    "from sklearn.preprocessing import StandardScaler\n",
    "from sklearn.linear_model import LogisticRegression\n",
    "from sklearn.metrics import confusion_matrix\n",
    "from sklearn.metrics import accuracy_score"
   ]
  },
  {
   "cell_type": "code",
   "execution_count": 11,
   "metadata": {},
   "outputs": [
    {
     "data": {
      "text/plain": [
       "Pipeline(memory=None,\n",
       "     steps=[('preproc', StandardScaler(copy=True, with_mean=True, with_std=True)), ('classifier', LogisticRegression(C=1.0, class_weight=None, dual=False, fit_intercept=True,\n",
       "          intercept_scaling=1, max_iter=100, multi_class='warn',\n",
       "          n_jobs=None, penalty='l2', random_state=None, solver='warn',\n",
       "          tol=0.0001, verbose=0, warm_start=False))])"
      ]
     },
     "execution_count": 11,
     "metadata": {},
     "output_type": "execute_result"
    }
   ],
   "source": [
    "clf = Pipeline([('preproc', StandardScaler()), ('classifier', LogisticRegression())])\n",
    "clf"
   ]
  },
  {
   "cell_type": "markdown",
   "metadata": {},
   "source": [
    "* 교차검증: k-fold(5)"
   ]
  },
  {
   "cell_type": "code",
   "execution_count": 9,
   "metadata": {
    "scrolled": true
   },
   "outputs": [
    {
     "name": "stderr",
     "output_type": "stream",
     "text": [
      "C:\\Users\\Administrator\\Anaconda3\\lib\\site-packages\\sklearn\\linear_model\\logistic.py:433: FutureWarning: Default solver will be changed to 'lbfgs' in 0.22. Specify a solver to silence this warning.\n",
      "  FutureWarning)\n",
      "C:\\Users\\Administrator\\Anaconda3\\lib\\site-packages\\sklearn\\linear_model\\logistic.py:433: FutureWarning: Default solver will be changed to 'lbfgs' in 0.22. Specify a solver to silence this warning.\n",
      "  FutureWarning)\n",
      "C:\\Users\\Administrator\\Anaconda3\\lib\\site-packages\\sklearn\\linear_model\\logistic.py:433: FutureWarning: Default solver will be changed to 'lbfgs' in 0.22. Specify a solver to silence this warning.\n",
      "  FutureWarning)\n",
      "C:\\Users\\Administrator\\Anaconda3\\lib\\site-packages\\sklearn\\linear_model\\logistic.py:433: FutureWarning: Default solver will be changed to 'lbfgs' in 0.22. Specify a solver to silence this warning.\n",
      "  FutureWarning)\n",
      "C:\\Users\\Administrator\\Anaconda3\\lib\\site-packages\\sklearn\\linear_model\\logistic.py:433: FutureWarning: Default solver will be changed to 'lbfgs' in 0.22. Specify a solver to silence this warning.\n",
      "  FutureWarning)\n"
     ]
    },
    {
     "name": "stdout",
     "output_type": "stream",
     "text": [
      "mean score_kfold \n",
      "0.97\n"
     ]
    }
   ],
   "source": [
    "from sklearn.model_selection import KFold, cross_val_score\n",
    "\n",
    "kfold = KFold(n_splits=5, random_state=0, shuffle=True)\n",
    "scores_fold = cross_val_score(clf, features2, labels2, cv=kfold) # model, train, target, cross validation\n",
    "print('mean score_kfold \\n{:.2f}'.format(scores_fold.mean()))"
   ]
  },
  {
   "cell_type": "markdown",
   "metadata": {},
   "source": [
    "* validation"
   ]
  },
  {
   "cell_type": "code",
   "execution_count": 12,
   "metadata": {},
   "outputs": [
    {
     "name": "stderr",
     "output_type": "stream",
     "text": [
      "C:\\Users\\Administrator\\Anaconda3\\lib\\site-packages\\sklearn\\linear_model\\logistic.py:433: FutureWarning: Default solver will be changed to 'lbfgs' in 0.22. Specify a solver to silence this warning.\n",
      "  FutureWarning)\n"
     ]
    },
    {
     "data": {
      "text/plain": [
       "Pipeline(memory=None,\n",
       "     steps=[('preproc', StandardScaler(copy=True, with_mean=True, with_std=True)), ('classifier', LogisticRegression(C=1.0, class_weight=None, dual=False, fit_intercept=True,\n",
       "          intercept_scaling=1, max_iter=100, multi_class='warn',\n",
       "          n_jobs=None, penalty='l2', random_state=None, solver='warn',\n",
       "          tol=0.0001, verbose=0, warm_start=False))])"
      ]
     },
     "execution_count": 12,
     "metadata": {},
     "output_type": "execute_result"
    }
   ],
   "source": [
    "clf.fit(features2, labels2)"
   ]
  },
  {
   "cell_type": "code",
   "execution_count": 25,
   "metadata": {},
   "outputs": [
    {
     "name": "stdout",
     "output_type": "stream",
     "text": [
      "mahotas package Accuracy: 0.9664371772805508\n"
     ]
    }
   ],
   "source": [
    "pred = clf.predict(val_features2)\n",
    "print('mahotas package Accuracy:', accuracy_score(val_labels2, pred))"
   ]
  },
  {
   "cell_type": "code",
   "execution_count": 29,
   "metadata": {},
   "outputs": [
    {
     "name": "stdout",
     "output_type": "stream",
     "text": [
      "mahotas package Accuracy: 0.9664371772805508\n",
      "[[646  16]\n",
      " [ 23 477]]\n"
     ]
    }
   ],
   "source": [
    "cf = confusion_matrix(val_labels2, pred)\n",
    "print('mahotas package Accuracy:', accuracy_score(val_labels2, pred))\n",
    "print(cf)"
   ]
  },
  {
   "cell_type": "markdown",
   "metadata": {},
   "source": [
    "## 1.2 가방: 유사 이미지 찾기 - 거리 기반"
   ]
  },
  {
   "cell_type": "code",
   "execution_count": 13,
   "metadata": {},
   "outputs": [],
   "source": [
    "import mahotas as mh"
   ]
  },
  {
   "cell_type": "markdown",
   "metadata": {},
   "source": [
    "### 1.2.1 image name"
   ]
  },
  {
   "cell_type": "code",
   "execution_count": 46,
   "metadata": {},
   "outputs": [
    {
     "name": "stdout",
     "output_type": "stream",
     "text": [
      "train image length: 17224\n"
     ]
    }
   ],
   "source": [
    "## train image\n",
    "train_images = glob('./train/bag/*.jpg')\n",
    "print('train image length:', len(train_images))"
   ]
  },
  {
   "cell_type": "code",
   "execution_count": 53,
   "metadata": {},
   "outputs": [
    {
     "name": "stdout",
     "output_type": "stream",
     "text": [
      "test image length: 14\n"
     ]
    }
   ],
   "source": [
    "## test image name \n",
    "## 유사한 이미지를 찾고자 하는 이미지를 test폴더에 넣는다\n",
    "test_images = glob('./data/test/*.jpg')\n",
    "test_images = np.array(test_images)\n",
    "print('test image length:', len(test_images))"
   ]
  },
  {
   "cell_type": "code",
   "execution_count": 51,
   "metadata": {},
   "outputs": [
    {
     "name": "stdout",
     "output_type": "stream",
     "text": [
      "after input: 17246\n"
     ]
    }
   ],
   "source": [
    "## train + input(test)\n",
    "train_images.extend(test_images)\n",
    "bag_images = train_images\n",
    "print('after input:', len(bag_images))"
   ]
  },
  {
   "cell_type": "code",
   "execution_count": 52,
   "metadata": {},
   "outputs": [
    {
     "data": {
      "text/plain": [
       "[17232,\n",
       " 17233,\n",
       " 17234,\n",
       " 17235,\n",
       " 17236,\n",
       " 17237,\n",
       " 17238,\n",
       " 17239,\n",
       " 17240,\n",
       " 17241,\n",
       " 17242,\n",
       " 17243,\n",
       " 17244,\n",
       " 17245]"
      ]
     },
     "execution_count": 52,
     "metadata": {},
     "output_type": "execute_result"
    }
   ],
   "source": [
    "## input image index\n",
    "f = lambda x : 'test' in x\n",
    "input_tf = list(map(f, bag_images))\n",
    "input_ind = [i for i, x in enumerate(input_tf) if x]\n",
    "input_ind"
   ]
  },
  {
   "cell_type": "markdown",
   "metadata": {},
   "source": [
    "### 1.2.2 feature 추출"
   ]
  },
  {
   "cell_type": "markdown",
   "metadata": {},
   "source": [
    "* train"
   ]
  },
  {
   "cell_type": "code",
   "execution_count": 99,
   "metadata": {},
   "outputs": [
    {
     "data": {
      "application/vnd.jupyter.widget-view+json": {
       "model_id": "1b92f5a9fbb74a359913e08dae4543c5",
       "version_major": 2,
       "version_minor": 0
      },
      "text/plain": [
       "HBox(children=(IntProgress(value=0, max=17238), HTML(value='')))"
      ]
     },
     "metadata": {},
     "output_type": "display_data"
    },
    {
     "name": "stdout",
     "output_type": "stream",
     "text": [
      "\n",
      "bag image total length: 17238\n"
     ]
    }
   ],
   "source": [
    "## 실행X\n",
    "train_feature = []\n",
    "for im in tqdm(train_images):\n",
    "    im = mh.imread(im)\n",
    "    im = mh.colors.rgb2gray(im, dtype = np.uint8)\n",
    "    train_feature.append(mh.features.haralick(im).ravel())\n",
    "    \n",
    "train_feature = np.array(bag_feature)\n",
    "print('bag image total length:', len(train_feature))"
   ]
  },
  {
   "cell_type": "code",
   "execution_count": 38,
   "metadata": {},
   "outputs": [],
   "source": [
    "## 저장 <- 실행X\n",
    "np.save('mahotas_features_train_bag',train_feature)"
   ]
  },
  {
   "cell_type": "code",
   "execution_count": 104,
   "metadata": {},
   "outputs": [],
   "source": [
    "## 실행O\n",
    "train_feature = np.load('mahotas_features_train_bag.npy')"
   ]
  },
  {
   "cell_type": "markdown",
   "metadata": {},
   "source": [
    "* test"
   ]
  },
  {
   "cell_type": "code",
   "execution_count": 54,
   "metadata": {},
   "outputs": [
    {
     "data": {
      "application/vnd.jupyter.widget-view+json": {
       "model_id": "20d6e9c85c5240039e587679fab8c9f3",
       "version_major": 2,
       "version_minor": 0
      },
      "text/plain": [
       "HBox(children=(IntProgress(value=0, max=14), HTML(value='')))"
      ]
     },
     "metadata": {},
     "output_type": "display_data"
    },
    {
     "name": "stdout",
     "output_type": "stream",
     "text": [
      "\n",
      "test image total length: 14\n"
     ]
    }
   ],
   "source": [
    "## 실행O\n",
    "test_feature = []\n",
    "for im in tqdm(test_images):\n",
    "    im = mh.imread(im)\n",
    "    im = mh.colors.rgb2gray(im, dtype = np.uint8)\n",
    "    test_feature.append(mh.features.haralick(im).ravel())\n",
    "    \n",
    "test_feature = np.array(test_feature)\n",
    "print('test image total length:', len(test_feature))"
   ]
  },
  {
   "cell_type": "code",
   "execution_count": 56,
   "metadata": {},
   "outputs": [],
   "source": [
    "## 저장 <- 실행O\n",
    "np.save('mahotas_features_test_bag',test_feature)"
   ]
  },
  {
   "cell_type": "code",
   "execution_count": 105,
   "metadata": {},
   "outputs": [],
   "source": [
    "## 실행O\n",
    "test_feature = np.load('mahotas_features_test_bag.npy')"
   ]
  },
  {
   "cell_type": "markdown",
   "metadata": {},
   "source": [
    "* train + test 병합"
   ]
  },
  {
   "cell_type": "code",
   "execution_count": 106,
   "metadata": {},
   "outputs": [
    {
     "data": {
      "text/plain": [
       "(17246, 52)"
      ]
     },
     "execution_count": 106,
     "metadata": {},
     "output_type": "execute_result"
    }
   ],
   "source": [
    "bag_feature = np.concatenate((train_feature, test_feature))\n",
    "bag_feature.shape"
   ]
  },
  {
   "cell_type": "code",
   "execution_count": 107,
   "metadata": {},
   "outputs": [],
   "source": [
    "## 저장\n",
    "np.save('mahotas_feature_train_test_ver',bag_feature)"
   ]
  },
  {
   "cell_type": "code",
   "execution_count": 109,
   "metadata": {},
   "outputs": [
    {
     "data": {
      "text/plain": [
       "(17246, 52)"
      ]
     },
     "execution_count": 109,
     "metadata": {},
     "output_type": "execute_result"
    }
   ],
   "source": [
    "## 실행\n",
    "bag_feature = np.load('mahotas_feature_train_test_ver.npy')\n",
    "bag_feature.shape"
   ]
  },
  {
   "cell_type": "markdown",
   "metadata": {},
   "source": [
    "### 1.2.3 유사한 이미지 찾는 모델 - 거리기반"
   ]
  },
  {
   "cell_type": "markdown",
   "metadata": {},
   "source": [
    "* 필요한 data load"
   ]
  },
  {
   "cell_type": "code",
   "execution_count": null,
   "metadata": {},
   "outputs": [],
   "source": [
    "# image name\n",
    "train_images = glob('./train/bag/*.jpg')\n",
    "test_images = glob('./data/test/*.jpg')\n",
    "train_images.extend(test_images)\n",
    "bag_images = train_images\n",
    "\n",
    "# feature\n",
    "bag_feature = np.load('mahotas_feature_train_test_ver.npy')"
   ]
  },
  {
   "cell_type": "code",
   "execution_count": 85,
   "metadata": {},
   "outputs": [
    {
     "name": "stdout",
     "output_type": "stream",
     "text": [
      "00min: 21sec\n"
     ]
    }
   ],
   "source": [
    "start = time.time()\n",
    "\n",
    "from sklearn.preprocessing import StandardScaler\n",
    "sc = StandardScaler()\n",
    "bag_features = sc.fit_transform(bag_feature)\n",
    "\n",
    "from scipy.spatial import distance\n",
    "dists = distance.squareform(distance.pdist(bag_features))\n",
    "\n",
    "sec = time.time()-start\n",
    "times = str(datetime.timedelta(seconds = sec)).split(\".\")\n",
    "times = times[0]\n",
    "print(times.split(':')[1] + 'min: ' + times.split(':')[2] + 'sec')"
   ]
  },
  {
   "cell_type": "code",
   "execution_count": 86,
   "metadata": {},
   "outputs": [],
   "source": [
    "## 거리 기반 모델 -> m번째로 유사한 이미지 추출하는 함수\n",
    "def selectImage(n, m, dists, images):\n",
    "    global image_position\n",
    "    image_position = dists[n].argsort()[m]\n",
    "    image = mh.imread(bag_images[image_position])\n",
    "    return image\n",
    "\n",
    "## plot print\n",
    "def plotImages(n):\n",
    "    plt.figure(figsize=(5,3),)\n",
    "    plt.imshow(mh.imread(bag_images[n]))\n",
    "    plt.xticks([])\n",
    "    plt.yticks([])\n",
    "    plt.xlabel(bag_images[n].split('_')[-1].split('.jpg')[0], fontsize = 15)\n",
    "    plt.title('Original Image', fontsize = 20)\n",
    "    plt.show()\n",
    "    \n",
    "    m = 1\n",
    "    plt.figure(figsize=(20,8))\n",
    "    for i in range(1,11):\n",
    "        plt.subplot(2,5,i)\n",
    "        plt.imshow(selectImage(n, m, dists, bag_images))\n",
    "        plt.xticks([])\n",
    "        plt.yticks([])\n",
    "        plt.xlabel(bag_images[image_position].split('_')[-1].split('.jpg')[0], fontsize = 13)\n",
    "        m += 1\n",
    "    plt.show()"
   ]
  },
  {
   "cell_type": "code",
   "execution_count": 127,
   "metadata": {},
   "outputs": [
    {
     "data": {
      "image/png": "[encoded data removed]",
      "text/plain": [
       "<Figure size 360x216 with 1 Axes>"
      ]
     },
     "metadata": {},
     "output_type": "display_data"
    },
    {
     "data": {
      "image/png": "[encoded data removed]",
      "text/plain": [
       "<Figure size 1440x576 with 10 Axes>"
      ]
     },
     "metadata": {},
     "output_type": "display_data"
    }
   ],
   "source": [
    "plotImages(input_ind[0])"
   ]
  },
  {
   "cell_type": "markdown",
   "metadata": {},
   "source": [
    "# (2). PCA -> KNN"
   ]
  },
  {
   "cell_type": "markdown",
   "metadata": {},
   "source": [
    "## 2.1 분류 모델(PCA 전과 후 비교)"
   ]
  },
  {
   "cell_type": "markdown",
   "metadata": {},
   "source": [
    "### 2.1.1 data load 및 전처리"
   ]
  },
  {
   "cell_type": "markdown",
   "metadata": {},
   "source": [
    "* data load"
   ]
  },
  {
   "cell_type": "code",
   "execution_count": 30,
   "metadata": {},
   "outputs": [],
   "source": [
    "from keras.preprocessing.image import ImageDataGenerator"
   ]
  },
  {
   "cell_type": "code",
   "execution_count": 31,
   "metadata": {},
   "outputs": [
    {
     "name": "stdout",
     "output_type": "stream",
     "text": [
      "Found 10020 images belonging to 2 classes.\n"
     ]
    }
   ],
   "source": [
    "train = ImageDataGenerator(rescale=1.0/255).flow_from_directory(\n",
    "    './data/train',     # 이미지 디렉토리\n",
    "    target_size=(100, 100),\n",
    "    batch_size=1,\n",
    "    color_mode='rgb',       # 컬러는 rgb, 흑백은 grayscale. 생략하면 컬러로 처리한다\n",
    "    class_mode='binary', # 드레스 vs. 가방으로 binary 분류\n",
    "    shuffle = False \n",
    ")   "
   ]
  },
  {
   "cell_type": "code",
   "execution_count": 32,
   "metadata": {},
   "outputs": [
    {
     "name": "stdout",
     "output_type": "stream",
     "text": [
      "Found 1162 images belonging to 2 classes.\n"
     ]
    }
   ],
   "source": [
    "valid = ImageDataGenerator(rescale=1.0/255).flow_from_directory(\n",
    "    './data/validation',\n",
    "    target_size=(100, 100),\n",
    "    batch_size=1,\n",
    "    color_mode = 'rgb',\n",
    "    class_mode='binary',\n",
    "    shuffle=False)"
   ]
  },
  {
   "cell_type": "markdown",
   "metadata": {},
   "source": [
    "* 전처리"
   ]
  },
  {
   "cell_type": "code",
   "execution_count": 33,
   "metadata": {},
   "outputs": [
    {
     "data": {
      "application/vnd.jupyter.widget-view+json": {
       "model_id": "047c490323ac46ec8984d38ba527ed22",
       "version_major": 2,
       "version_minor": 0
      },
      "text/plain": [
       "HBox(children=(IntProgress(value=0, max=10020), HTML(value='')))"
      ]
     },
     "metadata": {},
     "output_type": "display_data"
    },
    {
     "name": "stdout",
     "output_type": "stream",
     "text": [
      "\n"
     ]
    }
   ],
   "source": [
    "## train 전처리\n",
    "train_x = []\n",
    "for i in tqdm(range(0, len(train))):\n",
    "    train_x.append(train[i][0].flatten())\n",
    "len(train_x)\n",
    "\n",
    "train_y = train.classes"
   ]
  },
  {
   "cell_type": "code",
   "execution_count": 34,
   "metadata": {},
   "outputs": [
    {
     "data": {
      "application/vnd.jupyter.widget-view+json": {
       "model_id": "469a68f1d7f846249473f16cbb767141",
       "version_major": 2,
       "version_minor": 0
      },
      "text/plain": [
       "HBox(children=(IntProgress(value=0, max=1162), HTML(value='')))"
      ]
     },
     "metadata": {},
     "output_type": "display_data"
    },
    {
     "name": "stdout",
     "output_type": "stream",
     "text": [
      "\n"
     ]
    }
   ],
   "source": [
    "## validation 전처리\n",
    "valid_x = []\n",
    "for i in tqdm(range(0, len(valid))):\n",
    "    valid_x.append(valid[i][0].flatten())\n",
    "len(valid_x)\n",
    "\n",
    "valid_y = valid.classes"
   ]
  },
  {
   "cell_type": "markdown",
   "metadata": {},
   "source": [
    "### 2.1.2 Logistic Regression"
   ]
  },
  {
   "cell_type": "code",
   "execution_count": 9,
   "metadata": {},
   "outputs": [],
   "source": [
    "from sklearn.linear_model import LogisticRegression\n",
    "from sklearn.metrics import confusion_matrix\n",
    "from sklearn.metrics import accuracy_score"
   ]
  },
  {
   "cell_type": "code",
   "execution_count": 28,
   "metadata": {},
   "outputs": [],
   "source": [
    "def Logisticregression(x_train, x_valid):\n",
    "    start = time.time()\n",
    "    \n",
    "    clf = LogisticRegression(random_state=0)\n",
    "    clf.fit(x_train, train_y)\n",
    "    sec = time.time() - start\n",
    "    times = str(datetime.timedelta(seconds = sec)).split(\".\")\n",
    "    times = times[0]\n",
    "    print(times.split(':')[1] + 'min: ' + times.split(':')[2] + 'sec')\n",
    "\n",
    "    pred = clf.predict(x_valid)\n",
    "    print('Logistic Regression Accuracy:', accuracy_score(valid_y, pred))\n",
    "    \n",
    "    cf = confusion_matrix(valid_y, pred)\n",
    "    print(cf)"
   ]
  },
  {
   "cell_type": "markdown",
   "metadata": {},
   "source": [
    "* Before PCA"
   ]
  },
  {
   "cell_type": "code",
   "execution_count": 30,
   "metadata": {},
   "outputs": [
    {
     "name": "stderr",
     "output_type": "stream",
     "text": [
      "C:\\Users\\Administrator\\Anaconda3\\lib\\site-packages\\sklearn\\linear_model\\logistic.py:433: FutureWarning: Default solver will be changed to 'lbfgs' in 0.22. Specify a solver to silence this warning.\n",
      "  FutureWarning)\n"
     ]
    },
    {
     "name": "stdout",
     "output_type": "stream",
     "text": [
      "02min: 34sec\n",
      "Logistic Regression Accuracy: 0.9879518072289156\n",
      "[[650  12]\n",
      " [  2 498]]\n"
     ]
    }
   ],
   "source": [
    "Logisticregression(train_x, valid_x)"
   ]
  },
  {
   "cell_type": "markdown",
   "metadata": {},
   "source": [
    "* After PCA"
   ]
  },
  {
   "cell_type": "code",
   "execution_count": 35,
   "metadata": {},
   "outputs": [],
   "source": [
    "from sklearn.decomposition import PCA"
   ]
  },
  {
   "cell_type": "code",
   "execution_count": 36,
   "metadata": {},
   "outputs": [
    {
     "name": "stdout",
     "output_type": "stream",
     "text": [
      "00min: 37sec\n"
     ]
    }
   ],
   "source": [
    "## PCA\n",
    "start = time.time()\n",
    "\n",
    "pca_lo = PCA(n_components = 30, random_state=0)\n",
    "train_pca = pca_lo.fit_transform(train_x)\n",
    "valid_pca = pca_lo.fit_transform(valid_x)\n",
    "\n",
    "sec = time.time() - start\n",
    "times = str(datetime.timedelta(seconds = sec)).split(\".\")\n",
    "times = times[0]\n",
    "print(times.split(':')[1] + 'min: ' + times.split(':')[2] + 'sec')"
   ]
  },
  {
   "cell_type": "code",
   "execution_count": 37,
   "metadata": {},
   "outputs": [
    {
     "data": {
      "image/png": "[encoded data removed]",
      "text/plain": [
       "<Figure size 1440x720 with 1 Axes>"
      ]
     },
     "metadata": {
      "needs_background": "light"
     },
     "output_type": "display_data"
    }
   ],
   "source": [
    "explained_variance_ratio = pca_lo.explained_variance_ratio_\n",
    "\n",
    "def explained_variance_ratio_plot(explained_variance_ratio):\n",
    "    x_axis = range(1, len(explained_variance_ratio)+1)\n",
    "    \n",
    "    plt.figure(figsize=(20,10))\n",
    "    plt.bar(x_axis, explained_variance_ratio,\n",
    "            align = 'center', label = 'Individual Explained Variance Ratio')\n",
    "    plt.step(x_axis, np.cumsum(explained_variance_ratio),\n",
    "             where = 'mid', color='red', label='Cumulative Explained Variance Ratio')\n",
    "    plt.ylim(0, 1.1)\n",
    "    plt.xticks(x_axis, fontsize = 15)\n",
    "    plt.title('PCA Explained Variance Ratio Graph', fontsize = 25)\n",
    "    plt.xlabel('Principal Components', fontsize = 20)\n",
    "    plt.ylabel('Explained Variance Ratio', fontsize = 20)\n",
    "    plt.grid()\n",
    "    plt.show()\n",
    "\n",
    "explained_variance_ratio_plot(explained_variance_ratio)"
   ]
  },
  {
   "cell_type": "code",
   "execution_count": 40,
   "metadata": {},
   "outputs": [
    {
     "data": {
      "text/plain": [
       "0.8211876744944151"
      ]
     },
     "execution_count": 40,
     "metadata": {},
     "output_type": "execute_result"
    }
   ],
   "source": [
    "np.cumsum(pca_lo.explained_variance_ratio_)[-1]"
   ]
  },
  {
   "cell_type": "code",
   "execution_count": 29,
   "metadata": {},
   "outputs": [
    {
     "name": "stderr",
     "output_type": "stream",
     "text": [
      "C:\\Users\\Administrator\\Anaconda3\\lib\\site-packages\\sklearn\\linear_model\\logistic.py:433: FutureWarning: Default solver will be changed to 'lbfgs' in 0.22. Specify a solver to silence this warning.\n",
      "  FutureWarning)\n"
     ]
    },
    {
     "name": "stdout",
     "output_type": "stream",
     "text": [
      "00min: 00sec\n",
      "Logistic Regression Accuracy: 0.9440619621342513\n",
      "[[652  10]\n",
      " [ 55 445]]\n"
     ]
    }
   ],
   "source": [
    "Logisticregression(train_pca, valid_pca)"
   ]
  },
  {
   "cell_type": "markdown",
   "metadata": {},
   "source": [
    "### 2.1.3 RandomForest"
   ]
  },
  {
   "cell_type": "code",
   "execution_count": 39,
   "metadata": {},
   "outputs": [],
   "source": [
    "from sklearn.ensemble import RandomForestClassifier"
   ]
  },
  {
   "cell_type": "code",
   "execution_count": 85,
   "metadata": {},
   "outputs": [],
   "source": [
    "def Randomforest(x_train, x_valid):\n",
    "    start = time.time()\n",
    "    \n",
    "    rf = RandomForestClassifier(random_state=0, \n",
    "                                max_depth = 10, \n",
    "                                n_estimators=100,\n",
    "                               n_jobs=-1)\n",
    "    rf.fit(x_train, train_y)\n",
    "    sec = time.time() - start\n",
    "    times = str(datetime.timedelta(seconds = sec)).split(\".\")\n",
    "    times = times[0]\n",
    "    print(times.split(':')[1] + 'min: ' + times.split(':')[2] + 'sec')\n",
    "\n",
    "    pred = rf.predict(x_valid)\n",
    "    print('Logistic Regression Accuracy:', accuracy_score(valid_y, pred))\n",
    "    \n",
    "    cf = confusion_matrix(valid_y, pred)\n",
    "    print(cf)"
   ]
  },
  {
   "cell_type": "markdown",
   "metadata": {},
   "source": [
    "* Before PCA"
   ]
  },
  {
   "cell_type": "code",
   "execution_count": 86,
   "metadata": {},
   "outputs": [
    {
     "name": "stdout",
     "output_type": "stream",
     "text": [
      "00min: 11sec\n",
      "Logistic Regression Accuracy: 0.9913941480206541\n",
      "[[652  10]\n",
      " [  0 500]]\n"
     ]
    }
   ],
   "source": [
    "Randomforest(train_x, valid_x)"
   ]
  },
  {
   "cell_type": "markdown",
   "metadata": {},
   "source": [
    "* After PCA"
   ]
  },
  {
   "cell_type": "code",
   "execution_count": 87,
   "metadata": {},
   "outputs": [
    {
     "name": "stdout",
     "output_type": "stream",
     "text": [
      "00min: 00sec\n",
      "Logistic Regression Accuracy: 0.9466437177280551\n",
      "[[639  23]\n",
      " [ 39 461]]\n"
     ]
    }
   ],
   "source": [
    "Randomforest(train_pca, valid_pca)"
   ]
  },
  {
   "cell_type": "markdown",
   "metadata": {},
   "source": [
    "### 2.1.4 XGBoost"
   ]
  },
  {
   "cell_type": "code",
   "execution_count": 54,
   "metadata": {},
   "outputs": [],
   "source": [
    "import xgboost as xgb ## XGBoost 불러오기"
   ]
  },
  {
   "cell_type": "code",
   "execution_count": 70,
   "metadata": {},
   "outputs": [],
   "source": [
    "def xgboost(x_train, x_valid):\n",
    "    start = time.time()\n",
    "    \n",
    "    #xgb = XGBClassifier(random_state=0)\n",
    "    \n",
    "    dtrain = xgb.DMatrix(data=np.asarray(x_train), label = np.asarray(train_y))\n",
    "    dvalid = xgb.DMatrix(data=np.asarray(x_valid), label=np.asarray(valid_y))\n",
    "    \n",
    "    params = {'max_depth':3,\n",
    "              'eta':0.1,\n",
    "             'objective':'binary:logistic',\n",
    "             'eval_metric':'logloss',\n",
    "             'early_stoppings':30}\n",
    "    num_rounds=50\n",
    "    \n",
    "    w_list = [(dtrain,'train'),(dvalid,'valid')]\n",
    "    xgb_ml = xgb.train(params=params, dtrain=dtrain, num_boost_round=num_rounds,\n",
    "                       early_stopping_rounds=30, evals=w_list)\n",
    "    \n",
    "    sec = time.time() - start\n",
    "    times = str(datetime.timedelta(seconds = sec)).split(\".\")\n",
    "    times = times[0]\n",
    "    print(times.split(':')[1] + 'min: ' + times.split(':')[2] + 'sec')\n",
    "    \n",
    "    pred_probs = xgb_ml.predict(dvalid)\n",
    "    pred=[1 if x > 0.5 else 0 for x in pred_probs]\n",
    "    print('Logistic Regression Accuracy:', accuracy_score(valid_y, pred))\n",
    "    \n",
    "    cf = confusion_matrix(valid_y, pred)\n",
    "    print(cf)"
   ]
  },
  {
   "cell_type": "code",
   "execution_count": 71,
   "metadata": {
    "scrolled": true
   },
   "outputs": [
    {
     "name": "stdout",
     "output_type": "stream",
     "text": [
      "[16:47:11] WARNING: C:\\Users\\Administrator\\workspace\\xgboost-win64_release_1.1.0\\src\\learner.cc:480: \n",
      "Parameters: { early_stoppings } might not be used.\n",
      "\n",
      "  This may not be accurate due to some parameters are only used in language bindings but\n",
      "  passed down to XGBoost core.  Or some parameters are not used but slip through this\n",
      "  verification. Please open an issue if you find above cases.\n",
      "\n",
      "\n",
      "[0]\ttrain-logloss:0.60167\tvalid-logloss:0.60329\n",
      "Multiple eval metrics have been passed: 'valid-logloss' will be used for early stopping.\n",
      "\n",
      "Will train until valid-logloss hasn't improved in 30 rounds.\n",
      "[1]\ttrain-logloss:0.52634\tvalid-logloss:0.52951\n",
      "[2]\ttrain-logloss:0.46339\tvalid-logloss:0.46877\n",
      "[3]\ttrain-logloss:0.41012\tvalid-logloss:0.41597\n",
      "[4]\ttrain-logloss:0.36450\tvalid-logloss:0.37096\n",
      "[5]\ttrain-logloss:0.32511\tvalid-logloss:0.33259\n",
      "[6]\ttrain-logloss:0.29074\tvalid-logloss:0.29943\n",
      "[7]\ttrain-logloss:0.26072\tvalid-logloss:0.27051\n",
      "[8]\ttrain-logloss:0.23424\tvalid-logloss:0.24517\n",
      "[9]\ttrain-logloss:0.21107\tvalid-logloss:0.22316\n",
      "[10]\ttrain-logloss:0.19044\tvalid-logloss:0.20334\n",
      "[11]\ttrain-logloss:0.17224\tvalid-logloss:0.18574\n",
      "[12]\ttrain-logloss:0.15606\tvalid-logloss:0.17031\n",
      "[13]\ttrain-logloss:0.14166\tvalid-logloss:0.15603\n",
      "[14]\ttrain-logloss:0.12871\tvalid-logloss:0.14398\n",
      "[15]\ttrain-logloss:0.11722\tvalid-logloss:0.13304\n",
      "[16]\ttrain-logloss:0.10688\tvalid-logloss:0.12338\n",
      "[17]\ttrain-logloss:0.09761\tvalid-logloss:0.11433\n",
      "[18]\ttrain-logloss:0.08923\tvalid-logloss:0.10662\n",
      "[19]\ttrain-logloss:0.08160\tvalid-logloss:0.09911\n",
      "[20]\ttrain-logloss:0.07434\tvalid-logloss:0.09223\n",
      "[21]\ttrain-logloss:0.06812\tvalid-logloss:0.08625\n",
      "[22]\ttrain-logloss:0.06255\tvalid-logloss:0.08079\n",
      "[23]\ttrain-logloss:0.05749\tvalid-logloss:0.07596\n",
      "[24]\ttrain-logloss:0.05256\tvalid-logloss:0.07138\n",
      "[25]\ttrain-logloss:0.04849\tvalid-logloss:0.06766\n",
      "[26]\ttrain-logloss:0.04466\tvalid-logloss:0.06407\n",
      "[27]\ttrain-logloss:0.04122\tvalid-logloss:0.06101\n",
      "[28]\ttrain-logloss:0.03804\tvalid-logloss:0.05821\n",
      "[29]\ttrain-logloss:0.03505\tvalid-logloss:0.05581\n",
      "[30]\ttrain-logloss:0.03248\tvalid-logloss:0.05348\n",
      "[31]\ttrain-logloss:0.03008\tvalid-logloss:0.05125\n",
      "[32]\ttrain-logloss:0.02802\tvalid-logloss:0.04928\n",
      "[33]\ttrain-logloss:0.02602\tvalid-logloss:0.04782\n",
      "[34]\ttrain-logloss:0.02409\tvalid-logloss:0.04614\n",
      "[35]\ttrain-logloss:0.02250\tvalid-logloss:0.04447\n",
      "[36]\ttrain-logloss:0.02090\tvalid-logloss:0.04361\n",
      "[37]\ttrain-logloss:0.01949\tvalid-logloss:0.04274\n",
      "[38]\ttrain-logloss:0.01826\tvalid-logloss:0.04136\n",
      "[39]\ttrain-logloss:0.01716\tvalid-logloss:0.04032\n",
      "[40]\ttrain-logloss:0.01610\tvalid-logloss:0.03972\n",
      "[41]\ttrain-logloss:0.01514\tvalid-logloss:0.03905\n",
      "[42]\ttrain-logloss:0.01431\tvalid-logloss:0.03812\n",
      "[43]\ttrain-logloss:0.01347\tvalid-logloss:0.03793\n",
      "[44]\ttrain-logloss:0.01271\tvalid-logloss:0.03761\n",
      "[45]\ttrain-logloss:0.01195\tvalid-logloss:0.03702\n",
      "[46]\ttrain-logloss:0.01125\tvalid-logloss:0.03643\n",
      "[47]\ttrain-logloss:0.01068\tvalid-logloss:0.03607\n",
      "[48]\ttrain-logloss:0.01014\tvalid-logloss:0.03543\n",
      "[49]\ttrain-logloss:0.00956\tvalid-logloss:0.03485\n",
      "02min: 56sec\n",
      "Logistic Regression Accuracy: 0.9888123924268503\n",
      "[[651  11]\n",
      " [  2 498]]\n"
     ]
    }
   ],
   "source": [
    "xgboost(train_x, valid_x)"
   ]
  },
  {
   "cell_type": "code",
   "execution_count": 72,
   "metadata": {
    "scrolled": true
   },
   "outputs": [
    {
     "name": "stdout",
     "output_type": "stream",
     "text": [
      "[16:50:38] WARNING: C:\\Users\\Administrator\\workspace\\xgboost-win64_release_1.1.0\\src\\learner.cc:480: \n",
      "Parameters: { early_stoppings } might not be used.\n",
      "\n",
      "  This may not be accurate due to some parameters are only used in language bindings but\n",
      "  passed down to XGBoost core.  Or some parameters are not used but slip through this\n",
      "  verification. Please open an issue if you find above cases.\n",
      "\n",
      "\n",
      "[0]\ttrain-logloss:0.61499\tvalid-logloss:0.62001\n",
      "Multiple eval metrics have been passed: 'valid-logloss' will be used for early stopping.\n",
      "\n",
      "Will train until valid-logloss hasn't improved in 30 rounds.\n",
      "[1]\ttrain-logloss:0.55085\tvalid-logloss:0.55974\n",
      "[2]\ttrain-logloss:0.49618\tvalid-logloss:0.51136\n",
      "[3]\ttrain-logloss:0.45041\tvalid-logloss:0.46978\n",
      "[4]\ttrain-logloss:0.41099\tvalid-logloss:0.43328\n",
      "[5]\ttrain-logloss:0.37709\tvalid-logloss:0.40188\n",
      "[6]\ttrain-logloss:0.34575\tvalid-logloss:0.37306\n",
      "[7]\ttrain-logloss:0.31847\tvalid-logloss:0.34826\n",
      "[8]\ttrain-logloss:0.29501\tvalid-logloss:0.32781\n",
      "[9]\ttrain-logloss:0.27353\tvalid-logloss:0.31005\n",
      "[10]\ttrain-logloss:0.25511\tvalid-logloss:0.29366\n",
      "[11]\ttrain-logloss:0.23779\tvalid-logloss:0.27864\n",
      "[12]\ttrain-logloss:0.22196\tvalid-logloss:0.26636\n",
      "[13]\ttrain-logloss:0.20376\tvalid-logloss:0.25136\n",
      "[14]\ttrain-logloss:0.18792\tvalid-logloss:0.23867\n",
      "[15]\ttrain-logloss:0.17403\tvalid-logloss:0.22769\n",
      "[16]\ttrain-logloss:0.16146\tvalid-logloss:0.21732\n",
      "[17]\ttrain-logloss:0.15060\tvalid-logloss:0.20916\n",
      "[18]\ttrain-logloss:0.14101\tvalid-logloss:0.20210\n",
      "[19]\ttrain-logloss:0.13204\tvalid-logloss:0.19543\n",
      "[20]\ttrain-logloss:0.12432\tvalid-logloss:0.19027\n",
      "[21]\ttrain-logloss:0.11692\tvalid-logloss:0.18455\n",
      "[22]\ttrain-logloss:0.11065\tvalid-logloss:0.17801\n",
      "[23]\ttrain-logloss:0.10499\tvalid-logloss:0.17234\n",
      "[24]\ttrain-logloss:0.09961\tvalid-logloss:0.17028\n",
      "[25]\ttrain-logloss:0.09499\tvalid-logloss:0.16473\n",
      "[26]\ttrain-logloss:0.09090\tvalid-logloss:0.16259\n",
      "[27]\ttrain-logloss:0.08639\tvalid-logloss:0.15904\n",
      "[28]\ttrain-logloss:0.08270\tvalid-logloss:0.15840\n",
      "[29]\ttrain-logloss:0.07807\tvalid-logloss:0.15652\n",
      "[30]\ttrain-logloss:0.07423\tvalid-logloss:0.15251\n",
      "[31]\ttrain-logloss:0.07151\tvalid-logloss:0.14996\n",
      "[32]\ttrain-logloss:0.06795\tvalid-logloss:0.14894\n",
      "[33]\ttrain-logloss:0.06493\tvalid-logloss:0.14902\n",
      "[34]\ttrain-logloss:0.06209\tvalid-logloss:0.14647\n",
      "[35]\ttrain-logloss:0.05932\tvalid-logloss:0.14204\n",
      "[36]\ttrain-logloss:0.05700\tvalid-logloss:0.14252\n",
      "[37]\ttrain-logloss:0.05493\tvalid-logloss:0.14228\n",
      "[38]\ttrain-logloss:0.05320\tvalid-logloss:0.14117\n",
      "[39]\ttrain-logloss:0.05116\tvalid-logloss:0.14135\n",
      "[40]\ttrain-logloss:0.04938\tvalid-logloss:0.14070\n",
      "[41]\ttrain-logloss:0.04804\tvalid-logloss:0.13866\n",
      "[42]\ttrain-logloss:0.04648\tvalid-logloss:0.14100\n",
      "[43]\ttrain-logloss:0.04502\tvalid-logloss:0.13937\n",
      "[44]\ttrain-logloss:0.04359\tvalid-logloss:0.13992\n",
      "[45]\ttrain-logloss:0.04238\tvalid-logloss:0.14190\n",
      "[46]\ttrain-logloss:0.04101\tvalid-logloss:0.13965\n",
      "[47]\ttrain-logloss:0.03968\tvalid-logloss:0.13863\n",
      "[48]\ttrain-logloss:0.03879\tvalid-logloss:0.13756\n",
      "[49]\ttrain-logloss:0.03765\tvalid-logloss:0.13724\n",
      "00min: 00sec\n",
      "Logistic Regression Accuracy: 0.9397590361445783\n",
      "[[646  16]\n",
      " [ 54 446]]\n"
     ]
    }
   ],
   "source": [
    "xgboost(train_pca, valid_pca)"
   ]
  },
  {
   "cell_type": "markdown",
   "metadata": {},
   "source": [
    "## 2.2 이미지 유사도를 위한 PCA"
   ]
  },
  {
   "cell_type": "markdown",
   "metadata": {},
   "source": [
    "### 2.2.1 data load"
   ]
  },
  {
   "cell_type": "markdown",
   "metadata": {},
   "source": [
    "* image name"
   ]
  },
  {
   "cell_type": "code",
   "execution_count": 59,
   "metadata": {},
   "outputs": [
    {
     "data": {
      "text/plain": [
       "'./train/bag\\\\0_Saint Laurent.jpg'"
      ]
     },
     "execution_count": 59,
     "metadata": {},
     "output_type": "execute_result"
    }
   ],
   "source": [
    "## train\n",
    "train_images = glob('./train/bag/*.jpg')\n",
    "train_images[0]"
   ]
  },
  {
   "cell_type": "code",
   "execution_count": 73,
   "metadata": {},
   "outputs": [],
   "source": [
    "## test(input)\n",
    "test_images = glob('./data/test/*.jpg')"
   ]
  },
  {
   "cell_type": "code",
   "execution_count": 63,
   "metadata": {},
   "outputs": [],
   "source": [
    "## train + test\n",
    "train_images.extend(test_images)\n",
    "bag_image = train_images"
   ]
  },
  {
   "cell_type": "markdown",
   "metadata": {},
   "source": [
    "* image vector"
   ]
  },
  {
   "cell_type": "code",
   "execution_count": 96,
   "metadata": {
    "collapsed": true
   },
   "outputs": [
    {
     "data": {
      "application/vnd.jupyter.widget-view+json": {
       "model_id": "7cd2781363b1433b9b6ec79cf81f2fb0",
       "version_major": 2,
       "version_minor": 0
      },
      "text/plain": [
       "HBox(children=(IntProgress(value=0, max=17224), HTML(value='')))"
      ]
     },
     "metadata": {},
     "output_type": "display_data"
    },
    {
     "name": "stdout",
     "output_type": "stream",
     "text": [
      "\n"
     ]
    },
    {
     "ename": "KeyboardInterrupt",
     "evalue": "",
     "output_type": "error",
     "traceback": [
      "\u001b[1;31m---------------------------------------------------------------------------\u001b[0m",
      "\u001b[1;31mKeyboardInterrupt\u001b[0m                         Traceback (most recent call last)",
      "\u001b[1;32m<ipython-input-96-a32cd0c64fc0>\u001b[0m in \u001b[0;36m<module>\u001b[1;34m\u001b[0m\n\u001b[0;32m      2\u001b[0m \u001b[1;32mfor\u001b[0m \u001b[0mbag_name\u001b[0m \u001b[1;32min\u001b[0m \u001b[0mtqdm\u001b[0m\u001b[1;33m(\u001b[0m\u001b[0mbag_images\u001b[0m\u001b[1;33m)\u001b[0m\u001b[1;33m:\u001b[0m\u001b[1;33m\u001b[0m\u001b[1;33m\u001b[0m\u001b[0m\n\u001b[0;32m      3\u001b[0m     \u001b[0mimg\u001b[0m \u001b[1;33m=\u001b[0m \u001b[0mload_img\u001b[0m\u001b[1;33m(\u001b[0m\u001b[0mbag_name\u001b[0m\u001b[1;33m,\u001b[0m \u001b[0mtarget_size\u001b[0m \u001b[1;33m=\u001b[0m \u001b[1;33m(\u001b[0m\u001b[1;36m100\u001b[0m\u001b[1;33m,\u001b[0m\u001b[1;36m100\u001b[0m\u001b[1;33m)\u001b[0m\u001b[1;33m)\u001b[0m\u001b[1;33m\u001b[0m\u001b[1;33m\u001b[0m\u001b[0m\n\u001b[1;32m----> 4\u001b[1;33m     \u001b[0mimg_array\u001b[0m \u001b[1;33m=\u001b[0m \u001b[0mnp\u001b[0m\u001b[1;33m.\u001b[0m\u001b[0marray\u001b[0m\u001b[1;33m(\u001b[0m\u001b[0mimg\u001b[0m\u001b[1;33m)\u001b[0m\u001b[1;33m/\u001b[0m\u001b[1;36m255\u001b[0m\u001b[1;33m\u001b[0m\u001b[1;33m\u001b[0m\u001b[0m\n\u001b[0m\u001b[0;32m      5\u001b[0m     \u001b[0mimg_list\u001b[0m\u001b[1;33m.\u001b[0m\u001b[0mappend\u001b[0m\u001b[1;33m(\u001b[0m\u001b[0mimg_array\u001b[0m\u001b[1;33m)\u001b[0m\u001b[1;33m\u001b[0m\u001b[1;33m\u001b[0m\u001b[0m\n",
      "\u001b[1;31mKeyboardInterrupt\u001b[0m: "
     ]
    }
   ],
   "source": [
    "## train\n",
    "img_list = []\n",
    "for bag_name in tqdm(train_images):\n",
    "    img = load_img(bag_name, target_size = (100,100))\n",
    "    img_array = np.array(img)/255\n",
    "    img_list.append(img_array)"
   ]
  },
  {
   "cell_type": "code",
   "execution_count": 12,
   "metadata": {},
   "outputs": [],
   "source": [
    "img_array = np.array(img_list)\n",
    "np.save('bag_img_vector_train_bag.npy', img_array) #저장"
   ]
  },
  {
   "cell_type": "code",
   "execution_count": 74,
   "metadata": {},
   "outputs": [
    {
     "data": {
      "application/vnd.jupyter.widget-view+json": {
       "model_id": "0b3c318b82814eb8ac0b505f235b0f69",
       "version_major": 2,
       "version_minor": 0
      },
      "text/plain": [
       "HBox(children=(IntProgress(value=0, max=14), HTML(value='')))"
      ]
     },
     "metadata": {},
     "output_type": "display_data"
    },
    {
     "name": "stdout",
     "output_type": "stream",
     "text": [
      "\n"
     ]
    }
   ],
   "source": [
    "## test(input)\n",
    "test_img_list = []\n",
    "for bag_name in tqdm(test_images):\n",
    "    img = load_img(bag_name, target_size = (100,100))\n",
    "    img_array = np.array(img)/255\n",
    "    test_img_list.append(img_array)"
   ]
  },
  {
   "cell_type": "code",
   "execution_count": 76,
   "metadata": {},
   "outputs": [],
   "source": [
    "test_img_array = np.array(test_img_list)\n",
    "np.save('bag_img_vector_test_bag.npy', test_img_array) #저장"
   ]
  },
  {
   "cell_type": "code",
   "execution_count": 69,
   "metadata": {},
   "outputs": [
    {
     "data": {
      "text/plain": [
       "[17232,\n",
       " 17233,\n",
       " 17234,\n",
       " 17235,\n",
       " 17236,\n",
       " 17237,\n",
       " 17238,\n",
       " 17239,\n",
       " 17240,\n",
       " 17241,\n",
       " 17242,\n",
       " 17243,\n",
       " 17244,\n",
       " 17245]"
      ]
     },
     "execution_count": 69,
     "metadata": {},
     "output_type": "execute_result"
    }
   ],
   "source": [
    "## input image index\n",
    "f = lambda x : 'test' in x\n",
    "input_tf = list(map(f, bag_images))\n",
    "input_ind = [i for i, x in enumerate(input_tf) if x]\n",
    "input_ind"
   ]
  },
  {
   "cell_type": "markdown",
   "metadata": {},
   "source": [
    "* 데이터 불러오기"
   ]
  },
  {
   "cell_type": "code",
   "execution_count": 78,
   "metadata": {},
   "outputs": [
    {
     "name": "stdout",
     "output_type": "stream",
     "text": [
      "(100, 100, 3)\n",
      "train length: 17232\n"
     ]
    }
   ],
   "source": [
    "## train\n",
    "vec = np.load('bag_img_vector_train_bag.npy')\n",
    "print(vec[0].shape)\n",
    "print('train length:', vec.shape[0])"
   ]
  },
  {
   "cell_type": "code",
   "execution_count": 79,
   "metadata": {},
   "outputs": [
    {
     "name": "stdout",
     "output_type": "stream",
     "text": [
      "(100, 100, 3)\n",
      "test length: 14\n"
     ]
    }
   ],
   "source": [
    "## test(input image)\n",
    "test_vec = np.load('bag_img_vector_test_bag.npy')\n",
    "print(test_vec[0].shape)\n",
    "print('test length:', test_vec.shape[0])"
   ]
  },
  {
   "cell_type": "code",
   "execution_count": 80,
   "metadata": {},
   "outputs": [
    {
     "name": "stdout",
     "output_type": "stream",
     "text": [
      "(100, 100, 3)\n",
      "train + test length: 17246\n"
     ]
    }
   ],
   "source": [
    "## train + test\n",
    "vec = np.concatenate((vec, test_vec))\n",
    "\n",
    "print(vec[0].shape)\n",
    "print('train + test length:', vec.shape[0])"
   ]
  },
  {
   "cell_type": "code",
   "execution_count": 85,
   "metadata": {},
   "outputs": [],
   "source": [
    "## 저장\n",
    "np.save('bag_img_vector_train_test_ver.npy', vec)"
   ]
  },
  {
   "cell_type": "code",
   "execution_count": 87,
   "metadata": {},
   "outputs": [],
   "source": [
    "## 실행\n",
    "vec = np.load('bag_img_vector_train_test_ver.npy')"
   ]
  },
  {
   "cell_type": "code",
   "execution_count": 14,
   "metadata": {},
   "outputs": [
    {
     "data": {
      "text/plain": [
       "<matplotlib.image.AxesImage at 0x22776c389e8>"
      ]
     },
     "execution_count": 14,
     "metadata": {},
     "output_type": "execute_result"
    },
    {
     "data": {
      "image/png": "[encoded data removed]",
      "text/plain": [
       "<Figure size 432x288 with 1 Axes>"
      ]
     },
     "metadata": {
      "needs_background": "light"
     },
     "output_type": "display_data"
    }
   ],
   "source": [
    "plt.imshow(vec[0])"
   ]
  },
  {
   "cell_type": "code",
   "execution_count": 83,
   "metadata": {},
   "outputs": [
    {
     "data": {
      "application/vnd.jupyter.widget-view+json": {
       "model_id": "e0658edcf9cc40489df6f81b1c81b586",
       "version_major": 2,
       "version_minor": 0
      },
      "text/plain": [
       "HBox(children=(IntProgress(value=0, max=17246), HTML(value='')))"
      ]
     },
     "metadata": {},
     "output_type": "display_data"
    },
    {
     "name": "stdout",
     "output_type": "stream",
     "text": [
      "\n"
     ]
    },
    {
     "data": {
      "text/plain": [
       "17246"
      ]
     },
     "execution_count": 83,
     "metadata": {},
     "output_type": "execute_result"
    }
   ],
   "source": [
    "vec_list = []\n",
    "for i in tqdm(vec):\n",
    "    vec_list.append(i.flatten())\n",
    "len(vec_list)"
   ]
  },
  {
   "cell_type": "markdown",
   "metadata": {},
   "source": [
    "### 2.2.2 PCA"
   ]
  },
  {
   "cell_type": "code",
   "execution_count": 84,
   "metadata": {},
   "outputs": [
    {
     "name": "stdout",
     "output_type": "stream",
     "text": [
      "01min: 44sec\n"
     ]
    }
   ],
   "source": [
    "from sklearn.decomposition import PCA\n",
    "start = time.time()\n",
    "\n",
    "pca = PCA(n_components = 30, random_state=0)\n",
    "principalComponents = pca.fit_transform(vec_list)\n",
    "\n",
    "sec = time.time() - start\n",
    "times = str(datetime.timedelta(seconds = sec)).split(\".\")\n",
    "times = times[0]\n",
    "print(times.split(':')[1] + 'min: ' + times.split(':')[2] + 'sec')"
   ]
  },
  {
   "cell_type": "code",
   "execution_count": 88,
   "metadata": {},
   "outputs": [
    {
     "data": {
      "text/plain": [
       "array([  5.65627403, -24.62558926,  -2.90934934,  16.70477194,\n",
       "         5.18400963,  -4.06487586,  -1.04759469, -12.12553618,\n",
       "        -3.0070028 ,   2.89738924,   3.17786403,   0.51875948,\n",
       "        -2.23899881,  -1.00523733,  -1.21024303,   1.64930401,\n",
       "         2.88538454,  -3.77162219,  -3.03505697,  -0.76596215,\n",
       "         1.30743096,   2.68367907,   1.76200172,  -0.59509934,\n",
       "         2.53918726,  -0.84529663,  -0.81002244,   1.80920649,\n",
       "         0.40692821,   1.92485545])"
      ]
     },
     "execution_count": 88,
     "metadata": {},
     "output_type": "execute_result"
    }
   ],
   "source": [
    "principalComponents[0]"
   ]
  },
  {
   "cell_type": "code",
   "execution_count": 44,
   "metadata": {},
   "outputs": [
    {
     "data": {
      "image/png": "[encoded data removed]",
      "text/plain": [
       "<Figure size 1440x720 with 1 Axes>"
      ]
     },
     "metadata": {
      "needs_background": "light"
     },
     "output_type": "display_data"
    }
   ],
   "source": [
    "import matplotlib.pyplot as plt \n",
    "\n",
    "explained_variance_ratio = pca.explained_variance_ratio_\n",
    "\n",
    "def explained_variance_ratio_plot(explained_variance_ratio):\n",
    "    x_axis = range(1, len(explained_variance_ratio)+1)\n",
    "    \n",
    "    plt.figure(figsize=(20,10))\n",
    "    plt.bar(x_axis, explained_variance_ratio,\n",
    "            align = 'center', label = 'Individual Explained Variance Ratio')\n",
    "    plt.step(x_axis, np.cumsum(explained_variance_ratio),\n",
    "             where = 'mid', color='red', label='Cumulative Explained Variance Ratio')\n",
    "    plt.ylim(0, 1.1)\n",
    "    plt.xticks(x_axis, fontsize = 15)\n",
    "    plt.title('PCA Explained Variance Ratio Graph', fontsize = 25)\n",
    "    plt.xlabel('Principal Components', fontsize = 20)\n",
    "    plt.ylabel('Explained Variance Ratio', fontsize = 20)\n",
    "    plt.grid()\n",
    "    plt.show()\n",
    "\n",
    "explained_variance_ratio_plot(explained_variance_ratio)"
   ]
  },
  {
   "cell_type": "markdown",
   "metadata": {},
   "source": [
    "* 표준화"
   ]
  },
  {
   "cell_type": "code",
   "execution_count": 45,
   "metadata": {},
   "outputs": [],
   "source": [
    "## 표준화\n",
    "from sklearn.preprocessing import StandardScaler  # 표준화 패키지 라이브러리 \n",
    "\n",
    "ss_vec_list = StandardScaler().fit_transform(vec_list) # x객체에 x를 표준화한 데이터를 저장"
   ]
  },
  {
   "cell_type": "code",
   "execution_count": 46,
   "metadata": {
    "collapsed": true
   },
   "outputs": [
    {
     "ename": "MemoryError",
     "evalue": "",
     "output_type": "error",
     "traceback": [
      "\u001b[1;31m---------------------------------------------------------------------------\u001b[0m",
      "\u001b[1;31mMemoryError\u001b[0m                               Traceback (most recent call last)",
      "\u001b[1;32m<ipython-input-46-0f06f8508385>\u001b[0m in \u001b[0;36m<module>\u001b[1;34m\u001b[0m\n\u001b[0;32m      1\u001b[0m \u001b[0mss_pca\u001b[0m \u001b[1;33m=\u001b[0m \u001b[0mPCA\u001b[0m\u001b[1;33m(\u001b[0m\u001b[0mn_components\u001b[0m \u001b[1;33m=\u001b[0m \u001b[1;36m30\u001b[0m\u001b[1;33m,\u001b[0m \u001b[0mrandom_state\u001b[0m\u001b[1;33m=\u001b[0m\u001b[1;36m0\u001b[0m\u001b[1;33m)\u001b[0m\u001b[1;33m\u001b[0m\u001b[1;33m\u001b[0m\u001b[0m\n\u001b[1;32m----> 2\u001b[1;33m \u001b[0mss_principalComponents\u001b[0m \u001b[1;33m=\u001b[0m \u001b[0mss_pca\u001b[0m\u001b[1;33m.\u001b[0m\u001b[0mfit_transform\u001b[0m\u001b[1;33m(\u001b[0m\u001b[0mss_vec_list\u001b[0m\u001b[1;33m)\u001b[0m\u001b[1;33m\u001b[0m\u001b[1;33m\u001b[0m\u001b[0m\n\u001b[0m\u001b[0;32m      3\u001b[0m \u001b[0mss_principalComponents\u001b[0m\u001b[1;33m\u001b[0m\u001b[1;33m\u001b[0m\u001b[0m\n",
      "\u001b[1;32m~\\Anaconda3\\lib\\site-packages\\sklearn\\decomposition\\pca.py\u001b[0m in \u001b[0;36mfit_transform\u001b[1;34m(self, X, y)\u001b[0m\n\u001b[0;32m    357\u001b[0m \u001b[1;33m\u001b[0m\u001b[0m\n\u001b[0;32m    358\u001b[0m         \"\"\"\n\u001b[1;32m--> 359\u001b[1;33m         \u001b[0mU\u001b[0m\u001b[1;33m,\u001b[0m \u001b[0mS\u001b[0m\u001b[1;33m,\u001b[0m \u001b[0mV\u001b[0m \u001b[1;33m=\u001b[0m \u001b[0mself\u001b[0m\u001b[1;33m.\u001b[0m\u001b[0m_fit\u001b[0m\u001b[1;33m(\u001b[0m\u001b[0mX\u001b[0m\u001b[1;33m)\u001b[0m\u001b[1;33m\u001b[0m\u001b[1;33m\u001b[0m\u001b[0m\n\u001b[0m\u001b[0;32m    360\u001b[0m         \u001b[0mU\u001b[0m \u001b[1;33m=\u001b[0m \u001b[0mU\u001b[0m\u001b[1;33m[\u001b[0m\u001b[1;33m:\u001b[0m\u001b[1;33m,\u001b[0m \u001b[1;33m:\u001b[0m\u001b[0mself\u001b[0m\u001b[1;33m.\u001b[0m\u001b[0mn_components_\u001b[0m\u001b[1;33m]\u001b[0m\u001b[1;33m\u001b[0m\u001b[1;33m\u001b[0m\u001b[0m\n\u001b[0;32m    361\u001b[0m \u001b[1;33m\u001b[0m\u001b[0m\n",
      "\u001b[1;32m~\\Anaconda3\\lib\\site-packages\\sklearn\\decomposition\\pca.py\u001b[0m in \u001b[0;36m_fit\u001b[1;34m(self, X)\u001b[0m\n\u001b[0;32m    406\u001b[0m             \u001b[1;32mreturn\u001b[0m \u001b[0mself\u001b[0m\u001b[1;33m.\u001b[0m\u001b[0m_fit_full\u001b[0m\u001b[1;33m(\u001b[0m\u001b[0mX\u001b[0m\u001b[1;33m,\u001b[0m \u001b[0mn_components\u001b[0m\u001b[1;33m)\u001b[0m\u001b[1;33m\u001b[0m\u001b[1;33m\u001b[0m\u001b[0m\n\u001b[0;32m    407\u001b[0m         \u001b[1;32melif\u001b[0m \u001b[0mself\u001b[0m\u001b[1;33m.\u001b[0m\u001b[0m_fit_svd_solver\u001b[0m \u001b[1;32min\u001b[0m \u001b[1;33m[\u001b[0m\u001b[1;34m'arpack'\u001b[0m\u001b[1;33m,\u001b[0m \u001b[1;34m'randomized'\u001b[0m\u001b[1;33m]\u001b[0m\u001b[1;33m:\u001b[0m\u001b[1;33m\u001b[0m\u001b[1;33m\u001b[0m\u001b[0m\n\u001b[1;32m--> 408\u001b[1;33m             \u001b[1;32mreturn\u001b[0m \u001b[0mself\u001b[0m\u001b[1;33m.\u001b[0m\u001b[0m_fit_truncated\u001b[0m\u001b[1;33m(\u001b[0m\u001b[0mX\u001b[0m\u001b[1;33m,\u001b[0m \u001b[0mn_components\u001b[0m\u001b[1;33m,\u001b[0m \u001b[0mself\u001b[0m\u001b[1;33m.\u001b[0m\u001b[0m_fit_svd_solver\u001b[0m\u001b[1;33m)\u001b[0m\u001b[1;33m\u001b[0m\u001b[1;33m\u001b[0m\u001b[0m\n\u001b[0m\u001b[0;32m    409\u001b[0m         \u001b[1;32melse\u001b[0m\u001b[1;33m:\u001b[0m\u001b[1;33m\u001b[0m\u001b[1;33m\u001b[0m\u001b[0m\n\u001b[0;32m    410\u001b[0m             raise ValueError(\"Unrecognized svd_solver='{0}'\"\n",
      "\u001b[1;32m~\\Anaconda3\\lib\\site-packages\\sklearn\\decomposition\\pca.py\u001b[0m in \u001b[0;36m_fit_truncated\u001b[1;34m(self, X, n_components, svd_solver)\u001b[0m\n\u001b[0;32m    531\u001b[0m         \u001b[1;31m# Get variance explained by singular values\u001b[0m\u001b[1;33m\u001b[0m\u001b[1;33m\u001b[0m\u001b[1;33m\u001b[0m\u001b[0m\n\u001b[0;32m    532\u001b[0m         \u001b[0mself\u001b[0m\u001b[1;33m.\u001b[0m\u001b[0mexplained_variance_\u001b[0m \u001b[1;33m=\u001b[0m \u001b[1;33m(\u001b[0m\u001b[0mS\u001b[0m \u001b[1;33m**\u001b[0m \u001b[1;36m2\u001b[0m\u001b[1;33m)\u001b[0m \u001b[1;33m/\u001b[0m \u001b[1;33m(\u001b[0m\u001b[0mn_samples\u001b[0m \u001b[1;33m-\u001b[0m \u001b[1;36m1\u001b[0m\u001b[1;33m)\u001b[0m\u001b[1;33m\u001b[0m\u001b[1;33m\u001b[0m\u001b[0m\n\u001b[1;32m--> 533\u001b[1;33m         \u001b[0mtotal_var\u001b[0m \u001b[1;33m=\u001b[0m \u001b[0mnp\u001b[0m\u001b[1;33m.\u001b[0m\u001b[0mvar\u001b[0m\u001b[1;33m(\u001b[0m\u001b[0mX\u001b[0m\u001b[1;33m,\u001b[0m \u001b[0mddof\u001b[0m\u001b[1;33m=\u001b[0m\u001b[1;36m1\u001b[0m\u001b[1;33m,\u001b[0m \u001b[0maxis\u001b[0m\u001b[1;33m=\u001b[0m\u001b[1;36m0\u001b[0m\u001b[1;33m)\u001b[0m\u001b[1;33m\u001b[0m\u001b[1;33m\u001b[0m\u001b[0m\n\u001b[0m\u001b[0;32m    534\u001b[0m         \u001b[0mself\u001b[0m\u001b[1;33m.\u001b[0m\u001b[0mexplained_variance_ratio_\u001b[0m \u001b[1;33m=\u001b[0m\u001b[0;31m \u001b[0m\u001b[0;31m\\\u001b[0m\u001b[1;33m\u001b[0m\u001b[1;33m\u001b[0m\u001b[0m\n\u001b[0;32m    535\u001b[0m             \u001b[0mself\u001b[0m\u001b[1;33m.\u001b[0m\u001b[0mexplained_variance_\u001b[0m \u001b[1;33m/\u001b[0m \u001b[0mtotal_var\u001b[0m\u001b[1;33m.\u001b[0m\u001b[0msum\u001b[0m\u001b[1;33m(\u001b[0m\u001b[1;33m)\u001b[0m\u001b[1;33m\u001b[0m\u001b[1;33m\u001b[0m\u001b[0m\n",
      "\u001b[1;32m~\\Anaconda3\\lib\\site-packages\\numpy\\core\\fromnumeric.py\u001b[0m in \u001b[0;36mvar\u001b[1;34m(a, axis, dtype, out, ddof, keepdims)\u001b[0m\n\u001b[0;32m   3365\u001b[0m \u001b[1;33m\u001b[0m\u001b[0m\n\u001b[0;32m   3366\u001b[0m     return _methods._var(a, axis=axis, dtype=dtype, out=out, ddof=ddof,\n\u001b[1;32m-> 3367\u001b[1;33m                          **kwargs)\n\u001b[0m\u001b[0;32m   3368\u001b[0m \u001b[1;33m\u001b[0m\u001b[0m\n\u001b[0;32m   3369\u001b[0m \u001b[1;33m\u001b[0m\u001b[0m\n",
      "\u001b[1;32m~\\Anaconda3\\lib\\site-packages\\numpy\\core\\_methods.py\u001b[0m in \u001b[0;36m_var\u001b[1;34m(a, axis, dtype, out, ddof, keepdims)\u001b[0m\n\u001b[0;32m    115\u001b[0m     \u001b[1;31m# Note that x may not be inexact and that we need it to be an array,\u001b[0m\u001b[1;33m\u001b[0m\u001b[1;33m\u001b[0m\u001b[1;33m\u001b[0m\u001b[0m\n\u001b[0;32m    116\u001b[0m     \u001b[1;31m# not a scalar.\u001b[0m\u001b[1;33m\u001b[0m\u001b[1;33m\u001b[0m\u001b[1;33m\u001b[0m\u001b[0m\n\u001b[1;32m--> 117\u001b[1;33m     \u001b[0mx\u001b[0m \u001b[1;33m=\u001b[0m \u001b[0masanyarray\u001b[0m\u001b[1;33m(\u001b[0m\u001b[0marr\u001b[0m \u001b[1;33m-\u001b[0m \u001b[0marrmean\u001b[0m\u001b[1;33m)\u001b[0m\u001b[1;33m\u001b[0m\u001b[1;33m\u001b[0m\u001b[0m\n\u001b[0m\u001b[0;32m    118\u001b[0m     \u001b[1;32mif\u001b[0m \u001b[0missubclass\u001b[0m\u001b[1;33m(\u001b[0m\u001b[0marr\u001b[0m\u001b[1;33m.\u001b[0m\u001b[0mdtype\u001b[0m\u001b[1;33m.\u001b[0m\u001b[0mtype\u001b[0m\u001b[1;33m,\u001b[0m \u001b[0mnt\u001b[0m\u001b[1;33m.\u001b[0m\u001b[0mcomplexfloating\u001b[0m\u001b[1;33m)\u001b[0m\u001b[1;33m:\u001b[0m\u001b[1;33m\u001b[0m\u001b[1;33m\u001b[0m\u001b[0m\n\u001b[0;32m    119\u001b[0m         \u001b[0mx\u001b[0m \u001b[1;33m=\u001b[0m \u001b[0mum\u001b[0m\u001b[1;33m.\u001b[0m\u001b[0mmultiply\u001b[0m\u001b[1;33m(\u001b[0m\u001b[0mx\u001b[0m\u001b[1;33m,\u001b[0m \u001b[0mum\u001b[0m\u001b[1;33m.\u001b[0m\u001b[0mconjugate\u001b[0m\u001b[1;33m(\u001b[0m\u001b[0mx\u001b[0m\u001b[1;33m)\u001b[0m\u001b[1;33m,\u001b[0m \u001b[0mout\u001b[0m\u001b[1;33m=\u001b[0m\u001b[0mx\u001b[0m\u001b[1;33m)\u001b[0m\u001b[1;33m.\u001b[0m\u001b[0mreal\u001b[0m\u001b[1;33m\u001b[0m\u001b[1;33m\u001b[0m\u001b[0m\n",
      "\u001b[1;31mMemoryError\u001b[0m: "
     ]
    }
   ],
   "source": [
    "ss_pca = PCA(n_components = 30, random_state=0)\n",
    "ss_principalComponents = ss_pca.fit_transform(ss_vec_list)\n",
    "ss_principalComponents"
   ]
  },
  {
   "cell_type": "code",
   "execution_count": null,
   "metadata": {},
   "outputs": [],
   "source": [
    "ss_explained_variance_ratio = ss_pca.explained_variance_ratio_\n",
    "explained_variance_ratio_plot(ss_explained_variance_ratio)"
   ]
  },
  {
   "cell_type": "markdown",
   "metadata": {},
   "source": [
    "표준화를 했더니 오히려 설명력이 줄어들었음 -> 표준화 안한 데이터 저장"
   ]
  },
  {
   "cell_type": "markdown",
   "metadata": {},
   "source": [
    "* 데이터 저장"
   ]
  },
  {
   "cell_type": "code",
   "execution_count": 90,
   "metadata": {},
   "outputs": [],
   "source": [
    "np.save('bag_img_pca30_train_test_ver.npy', principalComponents) #저장"
   ]
  },
  {
   "cell_type": "code",
   "execution_count": 91,
   "metadata": {},
   "outputs": [],
   "source": [
    "## 불러오기\n",
    "principalComponents = np.load('bag_img_pca30_train_test_ver.npy')"
   ]
  },
  {
   "cell_type": "code",
   "execution_count": 92,
   "metadata": {},
   "outputs": [
    {
     "data": {
      "text/plain": [
       "array([  5.65627403, -24.62558926,  -2.90934934,  16.70477194,\n",
       "         5.18400963,  -4.06487586,  -1.04759469, -12.12553618,\n",
       "        -3.0070028 ,   2.89738924,   3.17786403,   0.51875948,\n",
       "        -2.23899881,  -1.00523733,  -1.21024303,   1.64930401,\n",
       "         2.88538454,  -3.77162219,  -3.03505697,  -0.76596215,\n",
       "         1.30743096,   2.68367907,   1.76200172,  -0.59509934,\n",
       "         2.53918726,  -0.84529663,  -0.81002244,   1.80920649,\n",
       "         0.40692821,   1.92485545])"
      ]
     },
     "execution_count": 92,
     "metadata": {},
     "output_type": "execute_result"
    }
   ],
   "source": [
    "principalComponents[0]"
   ]
  },
  {
   "cell_type": "markdown",
   "metadata": {},
   "source": [
    "### 2.2.3 KNN"
   ]
  },
  {
   "cell_type": "markdown",
   "metadata": {},
   "source": [
    "* 필요한 data load"
   ]
  },
  {
   "cell_type": "code",
   "execution_count": 98,
   "metadata": {},
   "outputs": [],
   "source": [
    "# 이름\n",
    "train_images = glob('./train/bag/*.jpg')\n",
    "test_images = glob('./data/test/*.jpg')\n",
    "train_images.extend(test_images)\n",
    "bag_image = train_images\n",
    "\n",
    "# 이미지 벡터(100*100)\n",
    "vec = np.load('bag_img_vector_train_test_ver.npy')\n",
    "\n",
    "# pca 벡터(30)\n",
    "principalComponents = np.load('bag_img_pca30_train_test_verr.npy')"
   ]
  },
  {
   "cell_type": "markdown",
   "metadata": {},
   "source": [
    "* knn"
   ]
  },
  {
   "cell_type": "code",
   "execution_count": 93,
   "metadata": {},
   "outputs": [
    {
     "data": {
      "text/plain": [
       "NearestNeighbors(algorithm='auto', leaf_size=30, metric='cosine',\n",
       "         metric_params=None, n_jobs=None, n_neighbors=11, p=2, radius=1.0)"
      ]
     },
     "execution_count": 93,
     "metadata": {},
     "output_type": "execute_result"
    }
   ],
   "source": [
    "from sklearn.neighbors import NearestNeighbors\n",
    "\n",
    "knn = NearestNeighbors(n_neighbors=11, metric=\"cosine\")\n",
    "knn.fit(principalComponents)"
   ]
  },
  {
   "cell_type": "code",
   "execution_count": 94,
   "metadata": {},
   "outputs": [
    {
     "data": {
      "text/plain": [
       "array([[    0, 13070, 10416,   547,  3215, 15495,  3062, 13950, 15109,\n",
       "         1591, 13420]], dtype=int64)"
      ]
     },
     "execution_count": 94,
     "metadata": {},
     "output_type": "execute_result"
    }
   ],
   "source": [
    "knn.kneighbors([principalComponents[0]])[1]"
   ]
  },
  {
   "cell_type": "markdown",
   "metadata": {},
   "source": [
    "* plot"
   ]
  },
  {
   "cell_type": "code",
   "execution_count": 95,
   "metadata": {},
   "outputs": [],
   "source": [
    "## plot print\n",
    "def plotImages(n):\n",
    "    sel_pca_vec = principalComponents[n]\n",
    "    top7 = knn.kneighbors([sel_pca_vec])[1][0]\n",
    "    \n",
    "    plt.figure(figsize=(5,3), )\n",
    "    plt.imshow(vec[top7[0]])\n",
    "    plt.xticks([])\n",
    "    plt.yticks([])\n",
    "    plt.xlabel(bag_images[top7[0]].split('_')[-1].split('.jpg')[0], fontsize = 15)\n",
    "    plt.title('Original Image', fontsize = 20)\n",
    "    plt.show()\n",
    "    \n",
    "    m = 1\n",
    "    plt.figure(figsize = (20,8))\n",
    "    for i in range(1,11):\n",
    "        plt.subplot(2,5,i)\n",
    "        plt.imshow(vec[top7[m]])\n",
    "        plt.xticks([])\n",
    "        plt.yticks([])\n",
    "        plt.xlabel(bag_images[top7[m]].split('_')[-1].split('.jpg')[0], fontsize = 15)\n",
    "        m += 1\n",
    "    plt.show()"
   ]
  },
  {
   "cell_type": "code",
   "execution_count": 96,
   "metadata": {},
   "outputs": [
    {
     "data": {
      "image/png": "[encoded data removed]",
      "text/plain": [
       "<Figure size 360x216 with 1 Axes>"
      ]
     },
     "metadata": {},
     "output_type": "display_data"
    },
    {
     "data": {
      "image/png": "[encoded data removed]",
      "text/plain": [
       "<Figure size 1440x576 with 10 Axes>"
      ]
     },
     "metadata": {},
     "output_type": "display_data"
    }
   ],
   "source": [
    "plotImages(input_ind[9])"
   ]
  },
  {
   "cell_type": "code",
   "execution_count": 100,
   "metadata": {},
   "outputs": [],
   "source": [
    "from numpy import dot\n",
    "from numpy.linalg import norm\n",
    "import numpy as np\n",
    "\n",
    "def cos_sim(A, B):\n",
    "       return dot(A, B)/(norm(A)*norm(B))"
   ]
  },
  {
   "cell_type": "code",
   "execution_count": 103,
   "metadata": {},
   "outputs": [
    {
     "name": "stdout",
     "output_type": "stream",
     "text": [
      "17241 13231\n"
     ]
    }
   ],
   "source": [
    "img1 = knn.kneighbors([principalComponents[input_ind[9]]])[1][0][0] ## 공영쇼핑 이미지 인덱스\n",
    "img2 = knn.kneighbors([principalComponents[input_ind[9]]])[1][0][1] ## 검증하고자 하는 명품 이미지 인덱스\n",
    "print(img1, img2)"
   ]
  },
  {
   "cell_type": "code",
   "execution_count": 102,
   "metadata": {},
   "outputs": [
    {
     "name": "stdout",
     "output_type": "stream",
     "text": [
      "cosine similarity: 0.9834\n"
     ]
    }
   ],
   "source": [
    "print('cosine similarity:', round(cos_sim(principalComponents[img1], principalComponents[img2]),4))"
   ]
  },
  {
   "cell_type": "code",
   "execution_count": null,
   "metadata": {},
   "outputs": [],
   "source": []
  },
  {
   "cell_type": "code",
   "execution_count": null,
   "metadata": {},
   "outputs": [],
   "source": []
  },
  {
   "cell_type": "code",
   "execution_count": null,
   "metadata": {},
   "outputs": [],
   "source": []
  },
  {
   "cell_type": "code",
   "execution_count": null,
   "metadata": {},
   "outputs": [],
   "source": []
  }
 ],
 "metadata": {
  "kernelspec": {
   "display_name": "Python 3",
   "language": "python",
   "name": "python3"
  },
  "language_info": {
   "codemirror_mode": {
    "name": "ipython",
    "version": 3
   },
   "file_extension": ".py",
   "mimetype": "text/x-python",
   "name": "python",
   "nbconvert_exporter": "python",
   "pygments_lexer": "ipython3",
   "version": "3.7.3"
  }
 },
 "nbformat": 4,
 "nbformat_minor": 2
}
